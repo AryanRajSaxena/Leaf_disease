{
  "cells": [
    {
      "cell_type": "markdown",
      "metadata": {
        "id": "view-in-github",
        "colab_type": "text"
      },
      "source": [
        "<a href=\"https://colab.research.google.com/github/AryanRajSaxena/Leaf_disease/blob/main/LeavesClassification.ipynb\" target=\"_parent\"><img src=\"https://colab.research.google.com/assets/colab-badge.svg\" alt=\"Open In Colab\"/></a>"
      ]
    },
    {
      "cell_type": "code",
      "execution_count": 2,
      "metadata": {
        "colab": {
          "base_uri": "https://localhost:8080/"
        },
        "id": "AiYOAZ4EOWIh",
        "outputId": "dbb92610-4850-428e-e638-c8908c01278f"
      },
      "outputs": [
        {
          "output_type": "stream",
          "name": "stdout",
          "text": [
            "Mounted at /content/drive\n"
          ]
        }
      ],
      "source": [
        "from google.colab import drive\n",
        "drive.mount('/content/drive')"
      ]
    },
    {
      "cell_type": "code",
      "execution_count": 3,
      "metadata": {
        "colab": {
          "base_uri": "https://localhost:8080/"
        },
        "id": "YW-yTQ5iO_Q-",
        "outputId": "2da7f0a6-3186-4a1a-8f7e-16eab2edb9e6"
      },
      "outputs": [
        {
          "output_type": "stream",
          "name": "stdout",
          "text": [
            "Collecting tensorflow-io\n",
            "  Downloading tensorflow_io-0.33.0-cp310-cp310-manylinux_2_12_x86_64.manylinux2010_x86_64.whl (28.6 MB)\n",
            "\u001b[2K     \u001b[90m━━━━━━━━━━━━━━━━━━━━━━━━━━━━━━━━━━━━━━━━\u001b[0m \u001b[32m28.6/28.6 MB\u001b[0m \u001b[31m40.9 MB/s\u001b[0m eta \u001b[36m0:00:00\u001b[0m\n",
            "\u001b[?25hRequirement already satisfied: tensorflow-io-gcs-filesystem==0.33.0 in /usr/local/lib/python3.10/dist-packages (from tensorflow-io) (0.33.0)\n",
            "Installing collected packages: tensorflow-io\n",
            "Successfully installed tensorflow-io-0.33.0\n"
          ]
        }
      ],
      "source": [
        "!pip install tensorflow-io"
      ]
    },
    {
      "cell_type": "code",
      "execution_count": 4,
      "metadata": {
        "id": "9opxlls2O_Jx"
      },
      "outputs": [],
      "source": [
        "import tensorflow as tf\n",
        "import tensorflow_io as tfio\n",
        "from tensorflow import keras\n",
        "from keras import Sequential\n",
        "from keras.layers import Dense,Flatten\n",
        "from keras.applications.vgg16 import VGG16"
      ]
    },
    {
      "cell_type": "code",
      "execution_count": 5,
      "metadata": {
        "colab": {
          "base_uri": "https://localhost:8080/"
        },
        "id": "MSsNYnF4O_G3",
        "outputId": "cabbb6c4-35e6-42dd-acc6-56cb1811fd6d"
      },
      "outputs": [
        {
          "output_type": "stream",
          "name": "stdout",
          "text": [
            "Downloading data from https://storage.googleapis.com/tensorflow/keras-applications/vgg16/vgg16_weights_tf_dim_ordering_tf_kernels_notop.h5\n",
            "58889256/58889256 [==============================] - 0s 0us/step\n"
          ]
        }
      ],
      "source": [
        "conv_base = VGG16(\n",
        "    weights='imagenet',\n",
        "    include_top = False,\n",
        "    input_shape=(224,224,3)\n",
        ")"
      ]
    },
    {
      "cell_type": "code",
      "execution_count": 6,
      "metadata": {
        "colab": {
          "base_uri": "https://localhost:8080/"
        },
        "id": "xeOHqUsFPOGO",
        "outputId": "3df71095-7958-438d-d613-784a290dd081"
      },
      "outputs": [
        {
          "output_type": "stream",
          "name": "stdout",
          "text": [
            "Model: \"vgg16\"\n",
            "_________________________________________________________________\n",
            " Layer (type)                Output Shape              Param #   \n",
            "=================================================================\n",
            " input_1 (InputLayer)        [(None, 224, 224, 3)]     0         \n",
            "                                                                 \n",
            " block1_conv1 (Conv2D)       (None, 224, 224, 64)      1792      \n",
            "                                                                 \n",
            " block1_conv2 (Conv2D)       (None, 224, 224, 64)      36928     \n",
            "                                                                 \n",
            " block1_pool (MaxPooling2D)  (None, 112, 112, 64)      0         \n",
            "                                                                 \n",
            " block2_conv1 (Conv2D)       (None, 112, 112, 128)     73856     \n",
            "                                                                 \n",
            " block2_conv2 (Conv2D)       (None, 112, 112, 128)     147584    \n",
            "                                                                 \n",
            " block2_pool (MaxPooling2D)  (None, 56, 56, 128)       0         \n",
            "                                                                 \n",
            " block3_conv1 (Conv2D)       (None, 56, 56, 256)       295168    \n",
            "                                                                 \n",
            " block3_conv2 (Conv2D)       (None, 56, 56, 256)       590080    \n",
            "                                                                 \n",
            " block3_conv3 (Conv2D)       (None, 56, 56, 256)       590080    \n",
            "                                                                 \n",
            " block3_pool (MaxPooling2D)  (None, 28, 28, 256)       0         \n",
            "                                                                 \n",
            " block4_conv1 (Conv2D)       (None, 28, 28, 512)       1180160   \n",
            "                                                                 \n",
            " block4_conv2 (Conv2D)       (None, 28, 28, 512)       2359808   \n",
            "                                                                 \n",
            " block4_conv3 (Conv2D)       (None, 28, 28, 512)       2359808   \n",
            "                                                                 \n",
            " block4_pool (MaxPooling2D)  (None, 14, 14, 512)       0         \n",
            "                                                                 \n",
            " block5_conv1 (Conv2D)       (None, 14, 14, 512)       2359808   \n",
            "                                                                 \n",
            " block5_conv2 (Conv2D)       (None, 14, 14, 512)       2359808   \n",
            "                                                                 \n",
            " block5_conv3 (Conv2D)       (None, 14, 14, 512)       2359808   \n",
            "                                                                 \n",
            " block5_pool (MaxPooling2D)  (None, 7, 7, 512)         0         \n",
            "                                                                 \n",
            "=================================================================\n",
            "Total params: 14,714,688\n",
            "Trainable params: 14,714,688\n",
            "Non-trainable params: 0\n",
            "_________________________________________________________________\n"
          ]
        }
      ],
      "source": [
        "conv_base.summary()"
      ]
    },
    {
      "cell_type": "code",
      "execution_count": 7,
      "metadata": {
        "id": "3iLvUbgVPOD6"
      },
      "outputs": [],
      "source": [
        "model = Sequential()\n",
        "\n",
        "model.add(conv_base)\n",
        "model.add(Flatten())\n",
        "model.add(Dense(40,activation='relu'))\n",
        "model.add(Dense(2,activation='sigmoid'))"
      ]
    },
    {
      "cell_type": "code",
      "execution_count": 67,
      "metadata": {
        "id": "XGWdBb-KT9-P"
      },
      "outputs": [],
      "source": [
        "model1 = Sequential()\n",
        "\n",
        "model1.add(conv_base)\n",
        "model1.add(Flatten())\n",
        "model1.add(Dense(12,activation='relu'))\n",
        "model1.add(Dense(2,activation='sigmoid'))"
      ]
    },
    {
      "cell_type": "code",
      "execution_count": 97,
      "metadata": {
        "id": "S4OECjQRMDm9"
      },
      "outputs": [],
      "source": [
        "#Yellow\n",
        "modelY = Sequential()\n",
        "\n",
        "modelY.add(conv_base)\n",
        "modelY.add(Flatten())\n",
        "modelY.add(Dense(12,activation='relu'))\n",
        "modelY.add(Dense(2,activation='sigmoid'))"
      ]
    },
    {
      "cell_type": "code",
      "execution_count": 10,
      "metadata": {
        "id": "k3KN_LDlMDjt"
      },
      "outputs": [],
      "source": [
        "#Blue\n",
        "modelb = Sequential()\n",
        "\n",
        "modelb.add(conv_base)\n",
        "modelb.add(Flatten())\n",
        "modelb.add(Dense(20,activation='relu'))\n",
        "modelb.add(Dense(2,activation='sigmoid'))"
      ]
    },
    {
      "cell_type": "code",
      "execution_count": 11,
      "metadata": {
        "id": "zJalWLJQMDhG"
      },
      "outputs": [],
      "source": [
        "#Green\n",
        "modelg = Sequential()\n",
        "\n",
        "modelg.add(conv_base)\n",
        "modelg.add(Flatten())\n",
        "modelg.add(Dense(20,activation='relu'))\n",
        "modelg.add(Dense(2,activation='sigmoid'))"
      ]
    },
    {
      "cell_type": "code",
      "execution_count": 12,
      "metadata": {
        "id": "5r6xlLbFMDek"
      },
      "outputs": [],
      "source": [
        "#red\n",
        "modelr = Sequential()\n",
        "\n",
        "modelr.add(conv_base)\n",
        "modelr.add(Flatten())\n",
        "modelr.add(Dense(32,activation='relu'))\n",
        "modelr.add(Dense(2,activation='sigmoid'))"
      ]
    },
    {
      "cell_type": "code",
      "execution_count": 13,
      "metadata": {
        "id": "2lAEss8yMwek"
      },
      "outputs": [],
      "source": [
        "#violet\n",
        "modelv = Sequential()\n",
        "\n",
        "modelv.add(conv_base)\n",
        "modelv.add(Flatten())\n",
        "modelv.add(Dense(20,activation='relu'))\n",
        "modelv.add(Dense(2,activation='sigmoid'))"
      ]
    },
    {
      "cell_type": "code",
      "execution_count": 14,
      "metadata": {
        "id": "AJpdi6ToPOBW"
      },
      "outputs": [],
      "source": [
        "conv_base.trainable = False"
      ]
    },
    {
      "cell_type": "code",
      "execution_count": 15,
      "metadata": {
        "id": "Ux5kO_N-PcVi"
      },
      "outputs": [],
      "source": [
        "# datagen = ImageDataGenerator(\n",
        "#     rotation_range=20,  # Randomly rotate images by 20 degrees\n",
        "#     width_shift_range=0.2,  # Randomly shift images horizontally by 20% of the total width\n",
        "#     height_shift_range=0.2,  # Randomly shift images vertically by 20% of the total height\n",
        "#     shear_range=0.2,  # Apply random shear transformations\n",
        "#     zoom_range=0.2,  # Randomly zoom in and out of images\n",
        "#     horizontal_flip=True,  # Randomly flip images horizontally\n",
        "#     fill_mode='nearest'  # Fill in any newly created pixels after rotation or shifting\n",
        "# )"
      ]
    },
    {
      "cell_type": "code",
      "execution_count": 16,
      "metadata": {
        "colab": {
          "base_uri": "https://localhost:8080/"
        },
        "id": "iCQPF0pdPerR",
        "outputId": "04f25552-9614-4508-dc0f-15abcee24850"
      },
      "outputs": [
        {
          "output_type": "stream",
          "name": "stdout",
          "text": [
            "Found 11 files belonging to 2 classes.\n",
            "Found 9 files belonging to 2 classes.\n"
          ]
        }
      ],
      "source": [
        "train_ds_orange = keras.utils.image_dataset_from_directory(\n",
        "    directory=\"/content/drive/MyDrive/Image (1)/Image_Orange/train\",\n",
        "    labels=\"inferred\",\n",
        "    label_mode=\"int\",\n",
        "    image_size=(224, 224)\n",
        ")\n",
        "\n",
        "validation_ds_orange = keras.utils.image_dataset_from_directory(\n",
        "    directory=\"/content/drive/MyDrive/Image (1)/Image_Orange/val\",\n",
        "    labels=\"inferred\",\n",
        "    label_mode=\"int\",\n",
        "    image_size=(224, 224)\n",
        ")"
      ]
    },
    {
      "cell_type": "code",
      "execution_count": 68,
      "metadata": {
        "colab": {
          "base_uri": "https://localhost:8080/"
        },
        "id": "GtOwXCrgTF4x",
        "outputId": "e46e786e-a8ab-485a-c722-564610b0c27a"
      },
      "outputs": [
        {
          "output_type": "stream",
          "name": "stdout",
          "text": [
            "Found 10 files belonging to 2 classes.\n",
            "Found 10 files belonging to 2 classes.\n"
          ]
        }
      ],
      "source": [
        "train_ds_white = keras.utils.image_dataset_from_directory(\n",
        "    directory=\"/content/drive/MyDrive/Image (1)/Image_White/train\",\n",
        "    labels=\"inferred\",\n",
        "    label_mode=\"int\",\n",
        "    image_size=(224, 224)\n",
        ")\n",
        "\n",
        "validation_ds_white = keras.utils.image_dataset_from_directory(\n",
        "    directory=\"/content/drive/MyDrive/Image (1)/Image_White/val\",\n",
        "    labels=\"inferred\",\n",
        "    label_mode=\"int\",\n",
        "    image_size=(224, 224)\n",
        ")"
      ]
    },
    {
      "cell_type": "code",
      "execution_count": 98,
      "metadata": {
        "colab": {
          "base_uri": "https://localhost:8080/"
        },
        "id": "vE7hrz5mM3yZ",
        "outputId": "8c33b719-c8c9-42c2-a8e2-2f41b40c3467"
      },
      "outputs": [
        {
          "output_type": "stream",
          "name": "stdout",
          "text": [
            "Found 11 files belonging to 2 classes.\n",
            "Found 7 files belonging to 2 classes.\n"
          ]
        }
      ],
      "source": [
        "train_ds_yellow = keras.utils.image_dataset_from_directory(\n",
        "    directory=\"/content/drive/MyDrive/Image (1)/Image_Yellow/train\",\n",
        "    labels=\"inferred\",\n",
        "    label_mode=\"int\",\n",
        "    image_size=(224, 224)\n",
        ")\n",
        "\n",
        "validation_ds_yellow = keras.utils.image_dataset_from_directory(\n",
        "    directory=\"/content/drive/MyDrive/Image (1)/Image_Yellow/val\",\n",
        "    labels=\"inferred\",\n",
        "    label_mode=\"int\",\n",
        "    image_size=(224, 224)\n",
        ")"
      ]
    },
    {
      "cell_type": "code",
      "execution_count": 19,
      "metadata": {
        "colab": {
          "base_uri": "https://localhost:8080/"
        },
        "id": "Zrs3r5-cM41D",
        "outputId": "4bf1b5ae-b2cb-4f1a-9e9e-1ed8ea2d452a"
      },
      "outputs": [
        {
          "output_type": "stream",
          "name": "stdout",
          "text": [
            "Found 11 files belonging to 2 classes.\n",
            "Found 7 files belonging to 2 classes.\n"
          ]
        }
      ],
      "source": [
        "train_ds_blue = keras.utils.image_dataset_from_directory(\n",
        "    directory=\"/content/drive/MyDrive/Image (1)/Image_blue/train\",\n",
        "    labels=\"inferred\",\n",
        "    label_mode=\"int\",\n",
        "    image_size=(224, 224)\n",
        ")\n",
        "\n",
        "validation_ds_blue = keras.utils.image_dataset_from_directory(\n",
        "    directory=\"/content/drive/MyDrive/Image (1)/Image_blue/val\",\n",
        "    labels=\"inferred\",\n",
        "    label_mode=\"int\",\n",
        "    image_size=(224, 224)\n",
        ")"
      ]
    },
    {
      "cell_type": "code",
      "execution_count": 20,
      "metadata": {
        "colab": {
          "base_uri": "https://localhost:8080/"
        },
        "id": "5gMF6rdNM4xv",
        "outputId": "cad04b8e-f0af-4328-c58c-713894d9cd20"
      },
      "outputs": [
        {
          "output_type": "stream",
          "name": "stdout",
          "text": [
            "Found 13 files belonging to 2 classes.\n",
            "Found 10 files belonging to 2 classes.\n"
          ]
        }
      ],
      "source": [
        "train_ds_green = keras.utils.image_dataset_from_directory(\n",
        "    directory=\"/content/drive/MyDrive/Image (1)/Image_green/train\",\n",
        "    labels=\"inferred\",\n",
        "    label_mode=\"int\",\n",
        "    image_size=(224, 224)\n",
        ")\n",
        "\n",
        "validation_ds_green = keras.utils.image_dataset_from_directory(\n",
        "    directory=\"/content/drive/MyDrive/Image (1)/Image_green/val\",\n",
        "    labels=\"inferred\",\n",
        "    label_mode=\"int\",\n",
        "    image_size=(224, 224)\n",
        ")"
      ]
    },
    {
      "cell_type": "code",
      "execution_count": 21,
      "metadata": {
        "colab": {
          "base_uri": "https://localhost:8080/"
        },
        "id": "QFHPSITiM4vU",
        "outputId": "71298759-a8a9-4e23-a42d-adfe7340b87c"
      },
      "outputs": [
        {
          "output_type": "stream",
          "name": "stdout",
          "text": [
            "Found 15 files belonging to 2 classes.\n",
            "Found 10 files belonging to 2 classes.\n"
          ]
        }
      ],
      "source": [
        "train_ds_red = keras.utils.image_dataset_from_directory(\n",
        "    directory=\"/content/drive/MyDrive/Image (1)/Image_red/train\",\n",
        "    labels=\"inferred\",\n",
        "    label_mode=\"int\",\n",
        "    image_size=(224, 224)\n",
        ")\n",
        "\n",
        "validation_ds_red = keras.utils.image_dataset_from_directory(\n",
        "    directory=\"/content/drive/MyDrive/Image (1)/Image_red/val\",\n",
        "    labels=\"inferred\",\n",
        "    label_mode=\"int\",\n",
        "    image_size=(224, 224)\n",
        ")"
      ]
    },
    {
      "cell_type": "code",
      "execution_count": 22,
      "metadata": {
        "colab": {
          "base_uri": "https://localhost:8080/"
        },
        "id": "HB1jS8ijM4s1",
        "outputId": "536aba55-7339-4712-a0fe-0f1575c9cca3"
      },
      "outputs": [
        {
          "output_type": "stream",
          "name": "stdout",
          "text": [
            "Found 11 files belonging to 2 classes.\n",
            "Found 7 files belonging to 2 classes.\n"
          ]
        }
      ],
      "source": [
        "train_ds_violet = keras.utils.image_dataset_from_directory(\n",
        "    directory=\"/content/drive/MyDrive/Image (1)/Image_violet/train\",\n",
        "    labels=\"inferred\",\n",
        "    label_mode=\"int\",\n",
        "    image_size=(224, 224)\n",
        ")\n",
        "\n",
        "validation_ds_violet = keras.utils.image_dataset_from_directory(\n",
        "    directory=\"/content/drive/MyDrive/Image (1)/Image_violet/val\",\n",
        "    labels=\"inferred\",\n",
        "    label_mode=\"int\",\n",
        "    image_size=(224, 224)\n",
        ")"
      ]
    },
    {
      "cell_type": "code",
      "execution_count": 23,
      "metadata": {
        "id": "b2Tcn9ThPeo4"
      },
      "outputs": [],
      "source": [
        "# Normalizing\n",
        "def process(image, label):\n",
        "    image = tf.cast(image / 255., tf.float32)\n",
        "    tfio.experimental.color.bgr_to_rgb(\n",
        "    image, name=None\n",
        "    )\n",
        "    return image, label\n",
        "\n",
        "\n",
        "train_ds = train_ds_orange.map(process)\n",
        "validation_ds = validation_ds_orange.map(process)\n",
        "\n",
        "\n",
        "\n",
        "train_ds_blue = train_ds_blue.map(process)\n",
        "validation_ds_blue = validation_ds_blue.map(process)\n",
        "\n",
        "train_ds_green = train_ds_green.map(process)\n",
        "validation_ds_green = validation_ds_green.map(process)\n",
        "\n",
        "train_ds_red = train_ds_red.map(process)\n",
        "validation_ds_red = validation_ds_red.map(process)\n",
        "\n",
        "train_ds_violet = train_ds_violet.map(process)\n",
        "validation_ds_violet = validation_ds_violet.map(process)"
      ]
    },
    {
      "cell_type": "code",
      "source": [
        "\n",
        "train_ds_yellow = train_ds_yellow.map(process)\n",
        "validation_ds_yellow = validation_ds_yellow.map(process)\n"
      ],
      "metadata": {
        "id": "rhStAy7q12tI"
      },
      "execution_count": 99,
      "outputs": []
    },
    {
      "cell_type": "code",
      "source": [
        "train_ds_white = train_ds_white.map(process)\n",
        "validation_ds_white = validation_ds_white.map(process)"
      ],
      "metadata": {
        "id": "KayLPOriu9aZ"
      },
      "execution_count": 69,
      "outputs": []
    },
    {
      "cell_type": "code",
      "execution_count": 24,
      "metadata": {
        "id": "5vpGFE9XPel8"
      },
      "outputs": [],
      "source": [
        "model.compile(optimizer=tf.keras.optimizers.Adam(learning_rate=0.00001),loss='sparse_categorical_crossentropy',metrics=['accuracy'])"
      ]
    },
    {
      "cell_type": "code",
      "execution_count": 70,
      "metadata": {
        "id": "y8dy-tPjUD3G"
      },
      "outputs": [],
      "source": [
        "model1.compile(optimizer=tf.keras.optimizers.Adam(learning_rate=0.00001),loss='sparse_categorical_crossentropy',metrics=['accuracy'])"
      ]
    },
    {
      "cell_type": "code",
      "execution_count": 100,
      "metadata": {
        "id": "oY1uZ8OCQVjr"
      },
      "outputs": [],
      "source": [
        "modelY.compile(optimizer=tf.keras.optimizers.Adam(learning_rate=0.00001),loss='sparse_categorical_crossentropy',metrics=['accuracy'])"
      ]
    },
    {
      "cell_type": "code",
      "execution_count": 27,
      "metadata": {
        "id": "ij6SjfLGQVbo"
      },
      "outputs": [],
      "source": [
        "modelg.compile(optimizer=tf.keras.optimizers.Adam(learning_rate=0.00001),loss='sparse_categorical_crossentropy',metrics=['accuracy'])"
      ]
    },
    {
      "cell_type": "code",
      "execution_count": 28,
      "metadata": {
        "id": "fAP4CQL8QVUy"
      },
      "outputs": [],
      "source": [
        "modelb.compile(optimizer=tf.keras.optimizers.Adam(learning_rate=0.00001),loss='sparse_categorical_crossentropy',metrics=['accuracy'])"
      ]
    },
    {
      "cell_type": "code",
      "execution_count": 29,
      "metadata": {
        "id": "F8ZbPNlrQVMv"
      },
      "outputs": [],
      "source": [
        "modelr.compile(optimizer=tf.keras.optimizers.Adam(learning_rate=0.00001),loss='sparse_categorical_crossentropy',metrics=['accuracy'])"
      ]
    },
    {
      "cell_type": "code",
      "execution_count": 30,
      "metadata": {
        "id": "06uLK3OLQVG6"
      },
      "outputs": [],
      "source": [
        "modelv.compile(optimizer=tf.keras.optimizers.Adam(learning_rate=0.0001),loss='sparse_categorical_crossentropy',metrics=['accuracy'])"
      ]
    },
    {
      "cell_type": "code",
      "execution_count": 49,
      "metadata": {
        "colab": {
          "base_uri": "https://localhost:8080/"
        },
        "id": "7xl0tbqiPly4",
        "outputId": "2f10bb1e-40b0-44da-9fe7-4b252319ac06"
      },
      "outputs": [
        {
          "output_type": "stream",
          "name": "stdout",
          "text": [
            "1/1 [==============================] - 19s 19s/step - loss: 0.3455 - accuracy: 0.9091 - val_loss: 0.7285 - val_accuracy: 0.5556\n"
          ]
        }
      ],
      "source": [
        "history = model.fit(train_ds,epochs=1,validation_data=validation_ds)"
      ]
    },
    {
      "cell_type": "code",
      "execution_count": 88,
      "metadata": {
        "colab": {
          "base_uri": "https://localhost:8080/"
        },
        "id": "hOPW6nhpTqtu",
        "outputId": "660d761e-fbc0-4894-c98e-7f466114144c"
      },
      "outputs": [
        {
          "output_type": "stream",
          "name": "stdout",
          "text": [
            "Epoch 1/25\n",
            "1/1 [==============================] - 19s 19s/step - loss: 0.6343 - accuracy: 0.9000 - val_loss: 0.6464 - val_accuracy: 0.7000\n",
            "Epoch 2/25\n",
            "1/1 [==============================] - 16s 16s/step - loss: 0.6246 - accuracy: 1.0000 - val_loss: 0.6490 - val_accuracy: 0.7000\n",
            "Epoch 3/25\n",
            "1/1 [==============================] - 17s 17s/step - loss: 0.6154 - accuracy: 0.9000 - val_loss: 0.6518 - val_accuracy: 0.7000\n",
            "Epoch 4/25\n",
            "1/1 [==============================] - 19s 19s/step - loss: 0.6071 - accuracy: 0.9000 - val_loss: 0.6547 - val_accuracy: 0.7000\n",
            "Epoch 5/25\n",
            "1/1 [==============================] - 19s 19s/step - loss: 0.5998 - accuracy: 0.9000 - val_loss: 0.6576 - val_accuracy: 0.7000\n",
            "Epoch 6/25\n",
            "1/1 [==============================] - 17s 17s/step - loss: 0.5928 - accuracy: 0.9000 - val_loss: 0.6597 - val_accuracy: 0.7000\n",
            "Epoch 7/25\n",
            "1/1 [==============================] - 19s 19s/step - loss: 0.5865 - accuracy: 0.9000 - val_loss: 0.6618 - val_accuracy: 0.7000\n",
            "Epoch 8/25\n",
            "1/1 [==============================] - 16s 16s/step - loss: 0.5809 - accuracy: 0.9000 - val_loss: 0.6637 - val_accuracy: 0.7000\n",
            "Epoch 9/25\n",
            "1/1 [==============================] - 18s 18s/step - loss: 0.5757 - accuracy: 0.9000 - val_loss: 0.6657 - val_accuracy: 0.7000\n",
            "Epoch 10/25\n",
            "1/1 [==============================] - 19s 19s/step - loss: 0.5706 - accuracy: 0.9000 - val_loss: 0.6675 - val_accuracy: 0.6000\n",
            "Epoch 11/25\n",
            "1/1 [==============================] - 19s 19s/step - loss: 0.5659 - accuracy: 0.9000 - val_loss: 0.6691 - val_accuracy: 0.6000\n",
            "Epoch 12/25\n",
            "1/1 [==============================] - 17s 17s/step - loss: 0.5615 - accuracy: 0.9000 - val_loss: 0.6707 - val_accuracy: 0.6000\n",
            "Epoch 13/25\n",
            "1/1 [==============================] - 19s 19s/step - loss: 0.5575 - accuracy: 0.9000 - val_loss: 0.6722 - val_accuracy: 0.6000\n",
            "Epoch 14/25\n",
            "1/1 [==============================] - 18s 18s/step - loss: 0.5536 - accuracy: 0.9000 - val_loss: 0.6737 - val_accuracy: 0.6000\n",
            "Epoch 15/25\n",
            "1/1 [==============================] - 17s 17s/step - loss: 0.5500 - accuracy: 0.9000 - val_loss: 0.6749 - val_accuracy: 0.6000\n",
            "Epoch 16/25\n",
            "1/1 [==============================] - 19s 19s/step - loss: 0.5466 - accuracy: 0.9000 - val_loss: 0.6760 - val_accuracy: 0.6000\n",
            "Epoch 17/25\n",
            "1/1 [==============================] - 19s 19s/step - loss: 0.5431 - accuracy: 0.9000 - val_loss: 0.6769 - val_accuracy: 0.6000\n",
            "Epoch 18/25\n",
            "1/1 [==============================] - 16s 16s/step - loss: 0.5397 - accuracy: 0.9000 - val_loss: 0.6779 - val_accuracy: 0.5000\n",
            "Epoch 19/25\n",
            "1/1 [==============================] - 17s 17s/step - loss: 0.5364 - accuracy: 0.9000 - val_loss: 0.6788 - val_accuracy: 0.5000\n",
            "Epoch 20/25\n",
            "1/1 [==============================] - 19s 19s/step - loss: 0.5332 - accuracy: 0.9000 - val_loss: 0.6797 - val_accuracy: 0.5000\n",
            "Epoch 21/25\n",
            "1/1 [==============================] - 19s 19s/step - loss: 0.5300 - accuracy: 0.9000 - val_loss: 0.6806 - val_accuracy: 0.5000\n",
            "Epoch 22/25\n",
            "1/1 [==============================] - 17s 17s/step - loss: 0.5268 - accuracy: 0.9000 - val_loss: 0.6815 - val_accuracy: 0.5000\n",
            "Epoch 23/25\n",
            "1/1 [==============================] - 29s 29s/step - loss: 0.5237 - accuracy: 0.9000 - val_loss: 0.6825 - val_accuracy: 0.5000\n",
            "Epoch 24/25\n",
            "1/1 [==============================] - 18s 18s/step - loss: 0.5207 - accuracy: 0.9000 - val_loss: 0.6835 - val_accuracy: 0.5000\n",
            "Epoch 25/25\n",
            "1/1 [==============================] - 16s 16s/step - loss: 0.5176 - accuracy: 0.9000 - val_loss: 0.6845 - val_accuracy: 0.5000\n"
          ]
        }
      ],
      "source": [
        "history1 = model1.fit(train_ds_white,epochs=25,validation_data=validation_ds_white)"
      ]
    },
    {
      "cell_type": "code",
      "execution_count": 103,
      "metadata": {
        "colab": {
          "base_uri": "https://localhost:8080/"
        },
        "id": "3_8WJ4xwQlz7",
        "outputId": "60038b7f-56e3-4ae1-bcf6-d49a2f914f5d"
      },
      "outputs": [
        {
          "output_type": "stream",
          "name": "stdout",
          "text": [
            "Epoch 1/5\n",
            "1/1 [==============================] - 22s 22s/step - loss: 0.5384 - accuracy: 0.6364 - val_loss: 0.7800 - val_accuracy: 0.5714\n",
            "Epoch 2/5\n",
            "1/1 [==============================] - 23s 23s/step - loss: 0.5320 - accuracy: 0.6364 - val_loss: 0.7801 - val_accuracy: 0.5714\n",
            "Epoch 3/5\n",
            "1/1 [==============================] - 19s 19s/step - loss: 0.5256 - accuracy: 0.7273 - val_loss: 0.7805 - val_accuracy: 0.5714\n",
            "Epoch 4/5\n",
            "1/1 [==============================] - 15s 15s/step - loss: 0.5193 - accuracy: 0.7273 - val_loss: 0.7809 - val_accuracy: 0.5714\n",
            "Epoch 5/5\n",
            "1/1 [==============================] - 18s 18s/step - loss: 0.5131 - accuracy: 0.7273 - val_loss: 0.7815 - val_accuracy: 0.5714\n"
          ]
        }
      ],
      "source": [
        "historyy = modelY.fit(train_ds_yellow,epochs=5,validation_data=validation_ds_yellow)"
      ]
    },
    {
      "cell_type": "code",
      "execution_count": 46,
      "metadata": {
        "colab": {
          "base_uri": "https://localhost:8080/"
        },
        "id": "Sch1lmq3QqDH",
        "outputId": "23df9cac-6b42-4bf1-9126-c3445a9abe2c"
      },
      "outputs": [
        {
          "output_type": "stream",
          "name": "stdout",
          "text": [
            "Epoch 1/5\n",
            "1/1 [==============================] - 18s 18s/step - loss: 0.5480 - accuracy: 0.9091 - val_loss: 0.6250 - val_accuracy: 0.8571\n",
            "Epoch 2/5\n",
            "1/1 [==============================] - 15s 15s/step - loss: 0.5437 - accuracy: 0.9091 - val_loss: 0.6246 - val_accuracy: 0.8571\n",
            "Epoch 3/5\n",
            "1/1 [==============================] - 13s 13s/step - loss: 0.5394 - accuracy: 0.9091 - val_loss: 0.6244 - val_accuracy: 0.8571\n",
            "Epoch 4/5\n",
            "1/1 [==============================] - 14s 14s/step - loss: 0.5352 - accuracy: 0.9091 - val_loss: 0.6243 - val_accuracy: 0.8571\n",
            "Epoch 5/5\n",
            "1/1 [==============================] - 14s 14s/step - loss: 0.5310 - accuracy: 1.0000 - val_loss: 0.6242 - val_accuracy: 0.8571\n"
          ]
        }
      ],
      "source": [
        "historyb = modelb.fit(train_ds_blue,epochs=5,validation_data=validation_ds_blue)"
      ]
    },
    {
      "cell_type": "code",
      "execution_count": 43,
      "metadata": {
        "id": "XQNPVLO-QuXf",
        "colab": {
          "base_uri": "https://localhost:8080/"
        },
        "outputId": "bdada718-6196-4744-d268-8118a8913ea5"
      },
      "outputs": [
        {
          "output_type": "stream",
          "name": "stdout",
          "text": [
            "Epoch 1/5\n",
            "1/1 [==============================] - 21s 21s/step - loss: 0.3207 - accuracy: 0.9231 - val_loss: 0.6009 - val_accuracy: 0.7000\n",
            "Epoch 2/5\n",
            "1/1 [==============================] - 20s 20s/step - loss: 0.3177 - accuracy: 0.9231 - val_loss: 0.5998 - val_accuracy: 0.7000\n",
            "Epoch 3/5\n",
            "1/1 [==============================] - 17s 17s/step - loss: 0.3147 - accuracy: 0.9231 - val_loss: 0.5987 - val_accuracy: 0.7000\n",
            "Epoch 4/5\n",
            "1/1 [==============================] - 18s 18s/step - loss: 0.3118 - accuracy: 1.0000 - val_loss: 0.5976 - val_accuracy: 0.7000\n",
            "Epoch 5/5\n",
            "1/1 [==============================] - 19s 19s/step - loss: 0.3089 - accuracy: 1.0000 - val_loss: 0.5965 - val_accuracy: 0.7000\n"
          ]
        }
      ],
      "source": [
        "historyg = modelg.fit(train_ds_green,epochs=5,validation_data=validation_ds_green)"
      ]
    },
    {
      "cell_type": "code",
      "execution_count": 38,
      "metadata": {
        "id": "b8i0IhpFQxIc",
        "colab": {
          "base_uri": "https://localhost:8080/"
        },
        "outputId": "82fa6ebf-c076-4c8a-82e7-3f9d1d52b659"
      },
      "outputs": [
        {
          "output_type": "stream",
          "name": "stdout",
          "text": [
            "Epoch 1/15\n",
            "1/1 [==============================] - 23s 23s/step - loss: 0.4610 - accuracy: 0.8667 - val_loss: 0.6846 - val_accuracy: 0.5000\n",
            "Epoch 2/15\n",
            "1/1 [==============================] - 21s 21s/step - loss: 0.4549 - accuracy: 0.8667 - val_loss: 0.6841 - val_accuracy: 0.5000\n",
            "Epoch 3/15\n",
            "1/1 [==============================] - 20s 20s/step - loss: 0.4490 - accuracy: 0.8667 - val_loss: 0.6836 - val_accuracy: 0.5000\n",
            "Epoch 4/15\n",
            "1/1 [==============================] - 22s 22s/step - loss: 0.4428 - accuracy: 0.8667 - val_loss: 0.6831 - val_accuracy: 0.6000\n",
            "Epoch 5/15\n",
            "1/1 [==============================] - 23s 23s/step - loss: 0.4367 - accuracy: 0.8667 - val_loss: 0.6822 - val_accuracy: 0.6000\n",
            "Epoch 6/15\n",
            "1/1 [==============================] - 21s 21s/step - loss: 0.4306 - accuracy: 0.8667 - val_loss: 0.6811 - val_accuracy: 0.6000\n",
            "Epoch 7/15\n",
            "1/1 [==============================] - 22s 22s/step - loss: 0.4247 - accuracy: 0.8667 - val_loss: 0.6799 - val_accuracy: 0.6000\n",
            "Epoch 8/15\n",
            "1/1 [==============================] - 22s 22s/step - loss: 0.4189 - accuracy: 0.8667 - val_loss: 0.6786 - val_accuracy: 0.6000\n",
            "Epoch 9/15\n",
            "1/1 [==============================] - 22s 22s/step - loss: 0.4131 - accuracy: 0.8667 - val_loss: 0.6776 - val_accuracy: 0.6000\n",
            "Epoch 10/15\n",
            "1/1 [==============================] - 22s 22s/step - loss: 0.4074 - accuracy: 0.8667 - val_loss: 0.6770 - val_accuracy: 0.6000\n",
            "Epoch 11/15\n",
            "1/1 [==============================] - 22s 22s/step - loss: 0.4019 - accuracy: 0.8667 - val_loss: 0.6767 - val_accuracy: 0.6000\n",
            "Epoch 12/15\n",
            "1/1 [==============================] - 22s 22s/step - loss: 0.3964 - accuracy: 0.8667 - val_loss: 0.6767 - val_accuracy: 0.6000\n",
            "Epoch 13/15\n",
            "1/1 [==============================] - 22s 22s/step - loss: 0.3911 - accuracy: 0.8667 - val_loss: 0.6767 - val_accuracy: 0.6000\n",
            "Epoch 14/15\n",
            "1/1 [==============================] - 25s 25s/step - loss: 0.3859 - accuracy: 0.8667 - val_loss: 0.6769 - val_accuracy: 0.6000\n",
            "Epoch 15/15\n",
            "1/1 [==============================] - 19s 19s/step - loss: 0.3808 - accuracy: 0.8667 - val_loss: 0.6772 - val_accuracy: 0.6000\n"
          ]
        }
      ],
      "source": [
        "historyr = modelr.fit(train_ds_red,epochs=15,validation_data=validation_ds_red)"
      ]
    },
    {
      "cell_type": "code",
      "execution_count": 37,
      "metadata": {
        "id": "kwWp2axkQ6o4",
        "colab": {
          "base_uri": "https://localhost:8080/",
          "height": 1000
        },
        "outputId": "8a9a7cc4-6038-4e4e-d931-4b9aa99a25dd"
      },
      "outputs": [
        {
          "output_type": "stream",
          "name": "stdout",
          "text": [
            "Epoch 1/25\n",
            "1/1 [==============================] - 23s 23s/step - loss: 0.9189 - accuracy: 0.4545 - val_loss: 0.6587 - val_accuracy: 0.5714\n",
            "Epoch 2/25\n",
            "1/1 [==============================] - 20s 20s/step - loss: 0.7081 - accuracy: 0.4545 - val_loss: 0.6452 - val_accuracy: 0.8571\n",
            "Epoch 3/25\n",
            "1/1 [==============================] - 15s 15s/step - loss: 0.6198 - accuracy: 0.7273 - val_loss: 0.7056 - val_accuracy: 0.4286\n",
            "Epoch 4/25\n",
            "1/1 [==============================] - 14s 14s/step - loss: 0.6025 - accuracy: 0.7273 - val_loss: 0.7257 - val_accuracy: 0.4286\n",
            "Epoch 5/25\n",
            "1/1 [==============================] - 18s 18s/step - loss: 0.5914 - accuracy: 0.6364 - val_loss: 0.7233 - val_accuracy: 0.4286\n",
            "Epoch 6/25\n",
            "1/1 [==============================] - 15s 15s/step - loss: 0.5665 - accuracy: 0.6364 - val_loss: 0.7020 - val_accuracy: 0.4286\n",
            "Epoch 7/25\n",
            "1/1 [==============================] - 14s 14s/step - loss: 0.5358 - accuracy: 0.6364 - val_loss: 0.6719 - val_accuracy: 0.4286\n",
            "Epoch 8/25\n",
            "1/1 [==============================] - 14s 14s/step - loss: 0.5038 - accuracy: 0.8182 - val_loss: 0.6470 - val_accuracy: 0.4286\n",
            "Epoch 9/25\n",
            "1/1 [==============================] - 18s 18s/step - loss: 0.4720 - accuracy: 0.8182 - val_loss: 0.6249 - val_accuracy: 0.4286\n",
            "Epoch 10/25\n",
            "1/1 [==============================] - 15s 15s/step - loss: 0.4369 - accuracy: 0.8182 - val_loss: 0.6007 - val_accuracy: 0.7143\n",
            "Epoch 11/25\n",
            "1/1 [==============================] - 17s 17s/step - loss: 0.4084 - accuracy: 0.9091 - val_loss: 0.5783 - val_accuracy: 0.8571\n",
            "Epoch 12/25\n",
            "1/1 [==============================] - 15s 15s/step - loss: 0.3890 - accuracy: 1.0000 - val_loss: 0.5595 - val_accuracy: 0.8571\n",
            "Epoch 13/25\n",
            "1/1 [==============================] - 18s 18s/step - loss: 0.3727 - accuracy: 1.0000 - val_loss: 0.5473 - val_accuracy: 0.8571\n",
            "Epoch 14/25\n",
            "1/1 [==============================] - 18s 18s/step - loss: 0.3556 - accuracy: 1.0000 - val_loss: 0.5379 - val_accuracy: 0.8571\n",
            "Epoch 15/25\n",
            "1/1 [==============================] - 17s 17s/step - loss: 0.3364 - accuracy: 1.0000 - val_loss: 0.5299 - val_accuracy: 0.8571\n",
            "Epoch 16/25\n",
            "1/1 [==============================] - 15s 15s/step - loss: 0.3153 - accuracy: 1.0000 - val_loss: 0.5232 - val_accuracy: 0.8571\n",
            "Epoch 17/25\n",
            "1/1 [==============================] - 18s 18s/step - loss: 0.2941 - accuracy: 1.0000 - val_loss: 0.5154 - val_accuracy: 0.8571\n",
            "Epoch 18/25\n",
            "1/1 [==============================] - 15s 15s/step - loss: 0.2743 - accuracy: 1.0000 - val_loss: 0.5167 - val_accuracy: 0.8571\n",
            "Epoch 19/25\n",
            "1/1 [==============================] - 15s 15s/step - loss: 0.2572 - accuracy: 1.0000 - val_loss: 0.5247 - val_accuracy: 0.8571\n",
            "Epoch 20/25\n"
          ]
        },
        {
          "output_type": "error",
          "ename": "KeyboardInterrupt",
          "evalue": "ignored",
          "traceback": [
            "\u001b[0;31m---------------------------------------------------------------------------\u001b[0m",
            "\u001b[0;31mKeyboardInterrupt\u001b[0m                         Traceback (most recent call last)",
            "\u001b[0;32m<ipython-input-37-b61b8deffdae>\u001b[0m in \u001b[0;36m<cell line: 1>\u001b[0;34m()\u001b[0m\n\u001b[0;32m----> 1\u001b[0;31m \u001b[0mhistoryv\u001b[0m \u001b[0;34m=\u001b[0m \u001b[0mmodelv\u001b[0m\u001b[0;34m.\u001b[0m\u001b[0mfit\u001b[0m\u001b[0;34m(\u001b[0m\u001b[0mtrain_ds_violet\u001b[0m\u001b[0;34m,\u001b[0m\u001b[0mepochs\u001b[0m\u001b[0;34m=\u001b[0m\u001b[0;36m25\u001b[0m\u001b[0;34m,\u001b[0m\u001b[0mvalidation_data\u001b[0m\u001b[0;34m=\u001b[0m\u001b[0mvalidation_ds_violet\u001b[0m\u001b[0;34m)\u001b[0m\u001b[0;34m\u001b[0m\u001b[0;34m\u001b[0m\u001b[0m\n\u001b[0m",
            "\u001b[0;32m/usr/local/lib/python3.10/dist-packages/keras/utils/traceback_utils.py\u001b[0m in \u001b[0;36merror_handler\u001b[0;34m(*args, **kwargs)\u001b[0m\n\u001b[1;32m     63\u001b[0m         \u001b[0mfiltered_tb\u001b[0m \u001b[0;34m=\u001b[0m \u001b[0;32mNone\u001b[0m\u001b[0;34m\u001b[0m\u001b[0;34m\u001b[0m\u001b[0m\n\u001b[1;32m     64\u001b[0m         \u001b[0;32mtry\u001b[0m\u001b[0;34m:\u001b[0m\u001b[0;34m\u001b[0m\u001b[0;34m\u001b[0m\u001b[0m\n\u001b[0;32m---> 65\u001b[0;31m             \u001b[0;32mreturn\u001b[0m \u001b[0mfn\u001b[0m\u001b[0;34m(\u001b[0m\u001b[0;34m*\u001b[0m\u001b[0margs\u001b[0m\u001b[0;34m,\u001b[0m \u001b[0;34m**\u001b[0m\u001b[0mkwargs\u001b[0m\u001b[0;34m)\u001b[0m\u001b[0;34m\u001b[0m\u001b[0;34m\u001b[0m\u001b[0m\n\u001b[0m\u001b[1;32m     66\u001b[0m         \u001b[0;32mexcept\u001b[0m \u001b[0mException\u001b[0m \u001b[0;32mas\u001b[0m \u001b[0me\u001b[0m\u001b[0;34m:\u001b[0m\u001b[0;34m\u001b[0m\u001b[0;34m\u001b[0m\u001b[0m\n\u001b[1;32m     67\u001b[0m             \u001b[0mfiltered_tb\u001b[0m \u001b[0;34m=\u001b[0m \u001b[0m_process_traceback_frames\u001b[0m\u001b[0;34m(\u001b[0m\u001b[0me\u001b[0m\u001b[0;34m.\u001b[0m\u001b[0m__traceback__\u001b[0m\u001b[0;34m)\u001b[0m\u001b[0;34m\u001b[0m\u001b[0;34m\u001b[0m\u001b[0m\n",
            "\u001b[0;32m/usr/local/lib/python3.10/dist-packages/keras/engine/training.py\u001b[0m in \u001b[0;36mfit\u001b[0;34m(self, x, y, batch_size, epochs, verbose, callbacks, validation_split, validation_data, shuffle, class_weight, sample_weight, initial_epoch, steps_per_epoch, validation_steps, validation_batch_size, validation_freq, max_queue_size, workers, use_multiprocessing)\u001b[0m\n\u001b[1;32m   1683\u001b[0m                         ):\n\u001b[1;32m   1684\u001b[0m                             \u001b[0mcallbacks\u001b[0m\u001b[0;34m.\u001b[0m\u001b[0mon_train_batch_begin\u001b[0m\u001b[0;34m(\u001b[0m\u001b[0mstep\u001b[0m\u001b[0;34m)\u001b[0m\u001b[0;34m\u001b[0m\u001b[0;34m\u001b[0m\u001b[0m\n\u001b[0;32m-> 1685\u001b[0;31m                             \u001b[0mtmp_logs\u001b[0m \u001b[0;34m=\u001b[0m \u001b[0mself\u001b[0m\u001b[0;34m.\u001b[0m\u001b[0mtrain_function\u001b[0m\u001b[0;34m(\u001b[0m\u001b[0miterator\u001b[0m\u001b[0;34m)\u001b[0m\u001b[0;34m\u001b[0m\u001b[0;34m\u001b[0m\u001b[0m\n\u001b[0m\u001b[1;32m   1686\u001b[0m                             \u001b[0;32mif\u001b[0m \u001b[0mdata_handler\u001b[0m\u001b[0;34m.\u001b[0m\u001b[0mshould_sync\u001b[0m\u001b[0;34m:\u001b[0m\u001b[0;34m\u001b[0m\u001b[0;34m\u001b[0m\u001b[0m\n\u001b[1;32m   1687\u001b[0m                                 \u001b[0mcontext\u001b[0m\u001b[0;34m.\u001b[0m\u001b[0masync_wait\u001b[0m\u001b[0;34m(\u001b[0m\u001b[0;34m)\u001b[0m\u001b[0;34m\u001b[0m\u001b[0;34m\u001b[0m\u001b[0m\n",
            "\u001b[0;32m/usr/local/lib/python3.10/dist-packages/tensorflow/python/util/traceback_utils.py\u001b[0m in \u001b[0;36merror_handler\u001b[0;34m(*args, **kwargs)\u001b[0m\n\u001b[1;32m    148\u001b[0m     \u001b[0mfiltered_tb\u001b[0m \u001b[0;34m=\u001b[0m \u001b[0;32mNone\u001b[0m\u001b[0;34m\u001b[0m\u001b[0;34m\u001b[0m\u001b[0m\n\u001b[1;32m    149\u001b[0m     \u001b[0;32mtry\u001b[0m\u001b[0;34m:\u001b[0m\u001b[0;34m\u001b[0m\u001b[0;34m\u001b[0m\u001b[0m\n\u001b[0;32m--> 150\u001b[0;31m       \u001b[0;32mreturn\u001b[0m \u001b[0mfn\u001b[0m\u001b[0;34m(\u001b[0m\u001b[0;34m*\u001b[0m\u001b[0margs\u001b[0m\u001b[0;34m,\u001b[0m \u001b[0;34m**\u001b[0m\u001b[0mkwargs\u001b[0m\u001b[0;34m)\u001b[0m\u001b[0;34m\u001b[0m\u001b[0;34m\u001b[0m\u001b[0m\n\u001b[0m\u001b[1;32m    151\u001b[0m     \u001b[0;32mexcept\u001b[0m \u001b[0mException\u001b[0m \u001b[0;32mas\u001b[0m \u001b[0me\u001b[0m\u001b[0;34m:\u001b[0m\u001b[0;34m\u001b[0m\u001b[0;34m\u001b[0m\u001b[0m\n\u001b[1;32m    152\u001b[0m       \u001b[0mfiltered_tb\u001b[0m \u001b[0;34m=\u001b[0m \u001b[0m_process_traceback_frames\u001b[0m\u001b[0;34m(\u001b[0m\u001b[0me\u001b[0m\u001b[0;34m.\u001b[0m\u001b[0m__traceback__\u001b[0m\u001b[0;34m)\u001b[0m\u001b[0;34m\u001b[0m\u001b[0;34m\u001b[0m\u001b[0m\n",
            "\u001b[0;32m/usr/local/lib/python3.10/dist-packages/tensorflow/python/eager/polymorphic_function/polymorphic_function.py\u001b[0m in \u001b[0;36m__call__\u001b[0;34m(self, *args, **kwds)\u001b[0m\n\u001b[1;32m    892\u001b[0m \u001b[0;34m\u001b[0m\u001b[0m\n\u001b[1;32m    893\u001b[0m       \u001b[0;32mwith\u001b[0m \u001b[0mOptionalXlaContext\u001b[0m\u001b[0;34m(\u001b[0m\u001b[0mself\u001b[0m\u001b[0;34m.\u001b[0m\u001b[0m_jit_compile\u001b[0m\u001b[0;34m)\u001b[0m\u001b[0;34m:\u001b[0m\u001b[0;34m\u001b[0m\u001b[0;34m\u001b[0m\u001b[0m\n\u001b[0;32m--> 894\u001b[0;31m         \u001b[0mresult\u001b[0m \u001b[0;34m=\u001b[0m \u001b[0mself\u001b[0m\u001b[0;34m.\u001b[0m\u001b[0m_call\u001b[0m\u001b[0;34m(\u001b[0m\u001b[0;34m*\u001b[0m\u001b[0margs\u001b[0m\u001b[0;34m,\u001b[0m \u001b[0;34m**\u001b[0m\u001b[0mkwds\u001b[0m\u001b[0;34m)\u001b[0m\u001b[0;34m\u001b[0m\u001b[0;34m\u001b[0m\u001b[0m\n\u001b[0m\u001b[1;32m    895\u001b[0m \u001b[0;34m\u001b[0m\u001b[0m\n\u001b[1;32m    896\u001b[0m       \u001b[0mnew_tracing_count\u001b[0m \u001b[0;34m=\u001b[0m \u001b[0mself\u001b[0m\u001b[0;34m.\u001b[0m\u001b[0mexperimental_get_tracing_count\u001b[0m\u001b[0;34m(\u001b[0m\u001b[0;34m)\u001b[0m\u001b[0;34m\u001b[0m\u001b[0;34m\u001b[0m\u001b[0m\n",
            "\u001b[0;32m/usr/local/lib/python3.10/dist-packages/tensorflow/python/eager/polymorphic_function/polymorphic_function.py\u001b[0m in \u001b[0;36m_call\u001b[0;34m(self, *args, **kwds)\u001b[0m\n\u001b[1;32m    924\u001b[0m       \u001b[0;31m# In this case we have created variables on the first call, so we run the\u001b[0m\u001b[0;34m\u001b[0m\u001b[0;34m\u001b[0m\u001b[0m\n\u001b[1;32m    925\u001b[0m       \u001b[0;31m# defunned version which is guaranteed to never create variables.\u001b[0m\u001b[0;34m\u001b[0m\u001b[0;34m\u001b[0m\u001b[0m\n\u001b[0;32m--> 926\u001b[0;31m       \u001b[0;32mreturn\u001b[0m \u001b[0mself\u001b[0m\u001b[0;34m.\u001b[0m\u001b[0m_no_variable_creation_fn\u001b[0m\u001b[0;34m(\u001b[0m\u001b[0;34m*\u001b[0m\u001b[0margs\u001b[0m\u001b[0;34m,\u001b[0m \u001b[0;34m**\u001b[0m\u001b[0mkwds\u001b[0m\u001b[0;34m)\u001b[0m  \u001b[0;31m# pylint: disable=not-callable\u001b[0m\u001b[0;34m\u001b[0m\u001b[0;34m\u001b[0m\u001b[0m\n\u001b[0m\u001b[1;32m    927\u001b[0m     \u001b[0;32melif\u001b[0m \u001b[0mself\u001b[0m\u001b[0;34m.\u001b[0m\u001b[0m_variable_creation_fn\u001b[0m \u001b[0;32mis\u001b[0m \u001b[0;32mnot\u001b[0m \u001b[0;32mNone\u001b[0m\u001b[0;34m:\u001b[0m\u001b[0;34m\u001b[0m\u001b[0;34m\u001b[0m\u001b[0m\n\u001b[1;32m    928\u001b[0m       \u001b[0;31m# Release the lock early so that multiple threads can perform the call\u001b[0m\u001b[0;34m\u001b[0m\u001b[0;34m\u001b[0m\u001b[0m\n",
            "\u001b[0;32m/usr/local/lib/python3.10/dist-packages/tensorflow/python/eager/polymorphic_function/tracing_compiler.py\u001b[0m in \u001b[0;36m__call__\u001b[0;34m(self, *args, **kwargs)\u001b[0m\n\u001b[1;32m    141\u001b[0m       (concrete_function,\n\u001b[1;32m    142\u001b[0m        filtered_flat_args) = self._maybe_define_function(args, kwargs)\n\u001b[0;32m--> 143\u001b[0;31m     return concrete_function._call_flat(\n\u001b[0m\u001b[1;32m    144\u001b[0m         filtered_flat_args, captured_inputs=concrete_function.captured_inputs)  # pylint: disable=protected-access\n\u001b[1;32m    145\u001b[0m \u001b[0;34m\u001b[0m\u001b[0m\n",
            "\u001b[0;32m/usr/local/lib/python3.10/dist-packages/tensorflow/python/eager/polymorphic_function/monomorphic_function.py\u001b[0m in \u001b[0;36m_call_flat\u001b[0;34m(self, args, captured_inputs, cancellation_manager)\u001b[0m\n\u001b[1;32m   1755\u001b[0m         and executing_eagerly):\n\u001b[1;32m   1756\u001b[0m       \u001b[0;31m# No tape is watching; skip to running the function.\u001b[0m\u001b[0;34m\u001b[0m\u001b[0;34m\u001b[0m\u001b[0m\n\u001b[0;32m-> 1757\u001b[0;31m       return self._build_call_outputs(self._inference_function.call(\n\u001b[0m\u001b[1;32m   1758\u001b[0m           ctx, args, cancellation_manager=cancellation_manager))\n\u001b[1;32m   1759\u001b[0m     forward_backward = self._select_forward_and_backward_functions(\n",
            "\u001b[0;32m/usr/local/lib/python3.10/dist-packages/tensorflow/python/eager/polymorphic_function/monomorphic_function.py\u001b[0m in \u001b[0;36mcall\u001b[0;34m(self, ctx, args, cancellation_manager)\u001b[0m\n\u001b[1;32m    379\u001b[0m       \u001b[0;32mwith\u001b[0m \u001b[0m_InterpolateFunctionError\u001b[0m\u001b[0;34m(\u001b[0m\u001b[0mself\u001b[0m\u001b[0;34m)\u001b[0m\u001b[0;34m:\u001b[0m\u001b[0;34m\u001b[0m\u001b[0;34m\u001b[0m\u001b[0m\n\u001b[1;32m    380\u001b[0m         \u001b[0;32mif\u001b[0m \u001b[0mcancellation_manager\u001b[0m \u001b[0;32mis\u001b[0m \u001b[0;32mNone\u001b[0m\u001b[0;34m:\u001b[0m\u001b[0;34m\u001b[0m\u001b[0;34m\u001b[0m\u001b[0m\n\u001b[0;32m--> 381\u001b[0;31m           outputs = execute.execute(\n\u001b[0m\u001b[1;32m    382\u001b[0m               \u001b[0mstr\u001b[0m\u001b[0;34m(\u001b[0m\u001b[0mself\u001b[0m\u001b[0;34m.\u001b[0m\u001b[0msignature\u001b[0m\u001b[0;34m.\u001b[0m\u001b[0mname\u001b[0m\u001b[0;34m)\u001b[0m\u001b[0;34m,\u001b[0m\u001b[0;34m\u001b[0m\u001b[0;34m\u001b[0m\u001b[0m\n\u001b[1;32m    383\u001b[0m               \u001b[0mnum_outputs\u001b[0m\u001b[0;34m=\u001b[0m\u001b[0mself\u001b[0m\u001b[0;34m.\u001b[0m\u001b[0m_num_outputs\u001b[0m\u001b[0;34m,\u001b[0m\u001b[0;34m\u001b[0m\u001b[0;34m\u001b[0m\u001b[0m\n",
            "\u001b[0;32m/usr/local/lib/python3.10/dist-packages/tensorflow/python/eager/execute.py\u001b[0m in \u001b[0;36mquick_execute\u001b[0;34m(op_name, num_outputs, inputs, attrs, ctx, name)\u001b[0m\n\u001b[1;32m     50\u001b[0m   \u001b[0;32mtry\u001b[0m\u001b[0;34m:\u001b[0m\u001b[0;34m\u001b[0m\u001b[0;34m\u001b[0m\u001b[0m\n\u001b[1;32m     51\u001b[0m     \u001b[0mctx\u001b[0m\u001b[0;34m.\u001b[0m\u001b[0mensure_initialized\u001b[0m\u001b[0;34m(\u001b[0m\u001b[0;34m)\u001b[0m\u001b[0;34m\u001b[0m\u001b[0;34m\u001b[0m\u001b[0m\n\u001b[0;32m---> 52\u001b[0;31m     tensors = pywrap_tfe.TFE_Py_Execute(ctx._handle, device_name, op_name,\n\u001b[0m\u001b[1;32m     53\u001b[0m                                         inputs, attrs, num_outputs)\n\u001b[1;32m     54\u001b[0m   \u001b[0;32mexcept\u001b[0m \u001b[0mcore\u001b[0m\u001b[0;34m.\u001b[0m\u001b[0m_NotOkStatusException\u001b[0m \u001b[0;32mas\u001b[0m \u001b[0me\u001b[0m\u001b[0;34m:\u001b[0m\u001b[0;34m\u001b[0m\u001b[0;34m\u001b[0m\u001b[0m\n",
            "\u001b[0;31mKeyboardInterrupt\u001b[0m: "
          ]
        }
      ],
      "source": [
        "historyv = modelv.fit(train_ds_violet,epochs=25,validation_data=validation_ds_violet)"
      ]
    },
    {
      "cell_type": "code",
      "source": [
        "import cv2\n",
        "import matplotlib.pyplot as plt"
      ],
      "metadata": {
        "id": "00_ILc1PI3bP"
      },
      "execution_count": null,
      "outputs": []
    },
    {
      "cell_type": "code",
      "execution_count": null,
      "metadata": {
        "id": "5ox5lPHQPlwM"
      },
      "outputs": [],
      "source": [
        "test_img = r\"/content/Green.png\"\n",
        "image = cv2.imread(test_img)\n",
        "image = cv2.cvtColor(image, cv2.COLOR_BGR2RGB)\n",
        "\n",
        "plt.imshow(image)"
      ]
    },
    {
      "cell_type": "code",
      "execution_count": null,
      "metadata": {
        "id": "9cgmpcfqPtoV"
      },
      "outputs": [],
      "source": [
        "image.shape"
      ]
    },
    {
      "cell_type": "code",
      "execution_count": null,
      "metadata": {
        "id": "X6gMVYwIPtlj"
      },
      "outputs": [],
      "source": [
        "image = cv2.resize(image,(224,224))\n",
        "test_input = image.reshape((1,224,224,3))"
      ]
    },
    {
      "cell_type": "code",
      "execution_count": null,
      "metadata": {
        "id": "eeD4ZNwLPxz6"
      },
      "outputs": [],
      "source": [
        "test_input.shape"
      ]
    },
    {
      "cell_type": "code",
      "execution_count": null,
      "metadata": {
        "id": "jTNzWtPqPz1U"
      },
      "outputs": [],
      "source": [
        "result = model.predict(test_input)\n",
        "result"
      ]
    },
    {
      "cell_type": "code",
      "source": [
        "model.save(\"model_orange.h5\")\n",
        "model1.save(\"model_white.h5\")\n",
        "modelY.save(\"model_yellow.h5\")\n",
        "modelb.save(\"model_blue.h5\")\n",
        "modelr.save(\"model_red.h5\")\n",
        "modelg.save(\"model_green.h5\")\n",
        "modelv.save(\"model_violet.h5\")"
      ],
      "metadata": {
        "id": "GMlsN0dtA_jd"
      },
      "execution_count": 104,
      "outputs": []
    }
  ],
  "metadata": {
    "colab": {
      "provenance": [],
      "authorship_tag": "ABX9TyPeY44QGivYASw+h0iBTz4a",
      "include_colab_link": true
    },
    "kernelspec": {
      "display_name": "Python 3",
      "name": "python3"
    },
    "language_info": {
      "name": "python"
    }
  },
  "nbformat": 4,
  "nbformat_minor": 0
}