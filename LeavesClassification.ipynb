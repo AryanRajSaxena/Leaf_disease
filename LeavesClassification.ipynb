{
  "cells": [
    {
      "cell_type": "markdown",
      "metadata": {
        "id": "view-in-github",
        "colab_type": "text"
      },
      "source": [
        "<a href=\"https://colab.research.google.com/github/AryanRajSaxena/Leaf_disease/blob/main/LeavesClassification.ipynb\" target=\"_parent\"><img src=\"https://colab.research.google.com/assets/colab-badge.svg\" alt=\"Open In Colab\"/></a>"
      ]
    },
    {
      "cell_type": "code",
      "execution_count": null,
      "metadata": {
        "colab": {
          "base_uri": "https://localhost:8080/"
        },
        "id": "AiYOAZ4EOWIh",
        "outputId": "9ed1d8d6-d033-4fc1-fe6b-ba34eb499d9d"
      },
      "outputs": [
        {
          "output_type": "stream",
          "name": "stdout",
          "text": [
            "Drive already mounted at /content/drive; to attempt to forcibly remount, call drive.mount(\"/content/drive\", force_remount=True).\n"
          ]
        }
      ],
      "source": [
        "from google.colab import drive\n",
        "drive.mount('/content/drive')"
      ]
    },
    {
      "cell_type": "code",
      "execution_count": null,
      "metadata": {
        "colab": {
          "base_uri": "https://localhost:8080/"
        },
        "id": "YW-yTQ5iO_Q-",
        "outputId": "e6f6f6ff-5e8a-48aa-b4c0-ac9d386bd38e"
      },
      "outputs": [
        {
          "output_type": "stream",
          "name": "stdout",
          "text": [
            "Requirement already satisfied: tensorflow-io in /usr/local/lib/python3.10/dist-packages (0.33.0)\n",
            "Requirement already satisfied: tensorflow-io-gcs-filesystem==0.33.0 in /usr/local/lib/python3.10/dist-packages (from tensorflow-io) (0.33.0)\n"
          ]
        }
      ],
      "source": [
        "!pip install tensorflow-io"
      ]
    },
    {
      "cell_type": "code",
      "execution_count": null,
      "metadata": {
        "id": "9opxlls2O_Jx"
      },
      "outputs": [],
      "source": [
        "import tensorflow as tf\n",
        "import tensorflow_io as tfio\n",
        "from tensorflow import keras\n",
        "from keras import Sequential\n",
        "from keras.layers import Dense,Flatten\n",
        "from keras.applications.vgg16 import VGG16"
      ]
    },
    {
      "cell_type": "code",
      "execution_count": null,
      "metadata": {
        "id": "MSsNYnF4O_G3"
      },
      "outputs": [],
      "source": [
        "conv_base = VGG16(\n",
        "    weights='imagenet',\n",
        "    include_top = False,\n",
        "    input_shape=(224,224,3)\n",
        ")"
      ]
    },
    {
      "cell_type": "code",
      "execution_count": null,
      "metadata": {
        "colab": {
          "base_uri": "https://localhost:8080/"
        },
        "id": "xeOHqUsFPOGO",
        "outputId": "4534d9db-7dfb-44a5-e6e5-a08fd4e9c250"
      },
      "outputs": [
        {
          "output_type": "stream",
          "name": "stdout",
          "text": [
            "Model: \"vgg16\"\n",
            "_________________________________________________________________\n",
            " Layer (type)                Output Shape              Param #   \n",
            "=================================================================\n",
            " input_5 (InputLayer)        [(None, 224, 224, 3)]     0         \n",
            "                                                                 \n",
            " block1_conv1 (Conv2D)       (None, 224, 224, 64)      1792      \n",
            "                                                                 \n",
            " block1_conv2 (Conv2D)       (None, 224, 224, 64)      36928     \n",
            "                                                                 \n",
            " block1_pool (MaxPooling2D)  (None, 112, 112, 64)      0         \n",
            "                                                                 \n",
            " block2_conv1 (Conv2D)       (None, 112, 112, 128)     73856     \n",
            "                                                                 \n",
            " block2_conv2 (Conv2D)       (None, 112, 112, 128)     147584    \n",
            "                                                                 \n",
            " block2_pool (MaxPooling2D)  (None, 56, 56, 128)       0         \n",
            "                                                                 \n",
            " block3_conv1 (Conv2D)       (None, 56, 56, 256)       295168    \n",
            "                                                                 \n",
            " block3_conv2 (Conv2D)       (None, 56, 56, 256)       590080    \n",
            "                                                                 \n",
            " block3_conv3 (Conv2D)       (None, 56, 56, 256)       590080    \n",
            "                                                                 \n",
            " block3_pool (MaxPooling2D)  (None, 28, 28, 256)       0         \n",
            "                                                                 \n",
            " block4_conv1 (Conv2D)       (None, 28, 28, 512)       1180160   \n",
            "                                                                 \n",
            " block4_conv2 (Conv2D)       (None, 28, 28, 512)       2359808   \n",
            "                                                                 \n",
            " block4_conv3 (Conv2D)       (None, 28, 28, 512)       2359808   \n",
            "                                                                 \n",
            " block4_pool (MaxPooling2D)  (None, 14, 14, 512)       0         \n",
            "                                                                 \n",
            " block5_conv1 (Conv2D)       (None, 14, 14, 512)       2359808   \n",
            "                                                                 \n",
            " block5_conv2 (Conv2D)       (None, 14, 14, 512)       2359808   \n",
            "                                                                 \n",
            " block5_conv3 (Conv2D)       (None, 14, 14, 512)       2359808   \n",
            "                                                                 \n",
            " block5_pool (MaxPooling2D)  (None, 7, 7, 512)         0         \n",
            "                                                                 \n",
            "=================================================================\n",
            "Total params: 14,714,688\n",
            "Trainable params: 14,714,688\n",
            "Non-trainable params: 0\n",
            "_________________________________________________________________\n"
          ]
        }
      ],
      "source": [
        "conv_base.summary()"
      ]
    },
    {
      "cell_type": "code",
      "execution_count": null,
      "metadata": {
        "id": "3iLvUbgVPOD6"
      },
      "outputs": [],
      "source": [
        "model = Sequential()\n",
        "\n",
        "model.add(conv_base)\n",
        "model.add(Flatten())\n",
        "model.add(Dense(40,activation='relu'))\n",
        "model.add(Dense(1,activation='sigmoid'))"
      ]
    },
    {
      "cell_type": "code",
      "execution_count": null,
      "metadata": {
        "id": "XGWdBb-KT9-P"
      },
      "outputs": [],
      "source": [
        "model1 = Sequential()\n",
        "\n",
        "model1.add(conv_base)\n",
        "model1.add(Flatten())\n",
        "model1.add(Dense(20,activation='relu'))\n",
        "model1.add(Dense(1,activation='sigmoid'))"
      ]
    },
    {
      "cell_type": "code",
      "source": [
        "#Yellow\n",
        "modelY = Sequential()\n",
        "\n",
        "modelY.add(conv_base)\n",
        "modelY.add(Flatten())\n",
        "modelY.add(Dense(20,activation='relu'))\n",
        "modelY.add(Dense(1,activation='sigmoid'))"
      ],
      "metadata": {
        "id": "S4OECjQRMDm9"
      },
      "execution_count": null,
      "outputs": []
    },
    {
      "cell_type": "code",
      "source": [
        "#Blue\n",
        "modelb = Sequential()\n",
        "\n",
        "modelb.add(conv_base)\n",
        "modelb.add(Flatten())\n",
        "modelb.add(Dense(20,activation='relu'))\n",
        "modelb.add(Dense(1,activation='sigmoid'))"
      ],
      "metadata": {
        "id": "k3KN_LDlMDjt"
      },
      "execution_count": null,
      "outputs": []
    },
    {
      "cell_type": "code",
      "source": [
        "#Green\n",
        "modelg = Sequential()\n",
        "\n",
        "modelg.add(conv_base)\n",
        "modelg.add(Flatten())\n",
        "modelg.add(Dense(20,activation='relu'))\n",
        "modelg.add(Dense(1,activation='sigmoid'))"
      ],
      "metadata": {
        "id": "zJalWLJQMDhG"
      },
      "execution_count": null,
      "outputs": []
    },
    {
      "cell_type": "code",
      "source": [
        "#red\n",
        "modelr = Sequential()\n",
        "\n",
        "modelr.add(conv_base)\n",
        "modelr.add(Flatten())\n",
        "modelr.add(Dense(20,activation='relu'))\n",
        "modelr.add(Dense(1,activation='sigmoid'))"
      ],
      "metadata": {
        "id": "5r6xlLbFMDek"
      },
      "execution_count": null,
      "outputs": []
    },
    {
      "cell_type": "code",
      "source": [
        "#violet\n",
        "modelv = Sequential()\n",
        "\n",
        "modelv.add(conv_base)\n",
        "modelv.add(Flatten())\n",
        "modelv.add(Dense(20,activation='relu'))\n",
        "modelv.add(Dense(1,activation='sigmoid'))"
      ],
      "metadata": {
        "id": "2lAEss8yMwek"
      },
      "execution_count": null,
      "outputs": []
    },
    {
      "cell_type": "code",
      "execution_count": null,
      "metadata": {
        "id": "AJpdi6ToPOBW"
      },
      "outputs": [],
      "source": [
        "conv_base.trainable = False"
      ]
    },
    {
      "cell_type": "code",
      "execution_count": null,
      "metadata": {
        "id": "Ux5kO_N-PcVi"
      },
      "outputs": [],
      "source": [
        "# datagen = ImageDataGenerator(\n",
        "#     rotation_range=20,  # Randomly rotate images by 20 degrees\n",
        "#     width_shift_range=0.2,  # Randomly shift images horizontally by 20% of the total width\n",
        "#     height_shift_range=0.2,  # Randomly shift images vertically by 20% of the total height\n",
        "#     shear_range=0.2,  # Apply random shear transformations\n",
        "#     zoom_range=0.2,  # Randomly zoom in and out of images\n",
        "#     horizontal_flip=True,  # Randomly flip images horizontally\n",
        "#     fill_mode='nearest'  # Fill in any newly created pixels after rotation or shifting\n",
        "# )"
      ]
    },
    {
      "cell_type": "code",
      "execution_count": null,
      "metadata": {
        "colab": {
          "base_uri": "https://localhost:8080/"
        },
        "id": "iCQPF0pdPerR",
        "outputId": "3113c8d6-dc9f-451b-cca0-6083097d9711"
      },
      "outputs": [
        {
          "output_type": "stream",
          "name": "stdout",
          "text": [
            "Found 11 files belonging to 2 classes.\n",
            "Found 9 files belonging to 2 classes.\n"
          ]
        }
      ],
      "source": [
        "train_ds_orange = keras.utils.image_dataset_from_directory(\n",
        "    directory=\"/content/drive/MyDrive/Image (1)/Image_Orange/train\",\n",
        "    labels=\"inferred\",\n",
        "    label_mode=\"int\",\n",
        "    image_size=(224, 224)\n",
        ")\n",
        "\n",
        "validation_ds_orange = keras.utils.image_dataset_from_directory(\n",
        "    directory=\"/content/drive/MyDrive/Image (1)/Image_Orange/val\",\n",
        "    labels=\"inferred\",\n",
        "    label_mode=\"int\",\n",
        "    image_size=(224, 224)\n",
        ")"
      ]
    },
    {
      "cell_type": "code",
      "execution_count": null,
      "metadata": {
        "colab": {
          "base_uri": "https://localhost:8080/"
        },
        "id": "GtOwXCrgTF4x",
        "outputId": "9582b588-f97e-4f7b-f487-4f0611ea5ca1"
      },
      "outputs": [
        {
          "output_type": "stream",
          "name": "stdout",
          "text": [
            "Found 10 files belonging to 2 classes.\n",
            "Found 10 files belonging to 2 classes.\n"
          ]
        }
      ],
      "source": [
        "train_ds_white = keras.utils.image_dataset_from_directory(\n",
        "    directory=\"/content/drive/MyDrive/Image (1)/Image_White/train\",\n",
        "    labels=\"inferred\",\n",
        "    label_mode=\"int\",\n",
        "    image_size=(224, 224)\n",
        ")\n",
        "\n",
        "validation_ds_white = keras.utils.image_dataset_from_directory(\n",
        "    directory=\"/content/drive/MyDrive/Image (1)/Image_White/val\",\n",
        "    labels=\"inferred\",\n",
        "    label_mode=\"int\",\n",
        "    image_size=(224, 224)\n",
        ")"
      ]
    },
    {
      "cell_type": "code",
      "source": [
        "train_ds_yellow = keras.utils.image_dataset_from_directory(\n",
        "    directory=\"/content/drive/MyDrive/Image (1)/Image_Yellow/train\",\n",
        "    labels=\"inferred\",\n",
        "    label_mode=\"int\",\n",
        "    image_size=(224, 224)\n",
        ")\n",
        "\n",
        "validation_ds_yellow = keras.utils.image_dataset_from_directory(\n",
        "    directory=\"/content/drive/MyDrive/Image (1)/Image_Yellow/val\",\n",
        "    labels=\"inferred\",\n",
        "    label_mode=\"int\",\n",
        "    image_size=(224, 224)\n",
        ")"
      ],
      "metadata": {
        "colab": {
          "base_uri": "https://localhost:8080/"
        },
        "id": "vE7hrz5mM3yZ",
        "outputId": "a29a85e2-604e-46d6-e602-07fe56d785ad"
      },
      "execution_count": null,
      "outputs": [
        {
          "output_type": "stream",
          "name": "stdout",
          "text": [
            "Found 11 files belonging to 2 classes.\n",
            "Found 7 files belonging to 2 classes.\n"
          ]
        }
      ]
    },
    {
      "cell_type": "code",
      "source": [
        "train_ds_blue = keras.utils.image_dataset_from_directory(\n",
        "    directory=\"/content/drive/MyDrive/Image (1)/Image_blue/train\",\n",
        "    labels=\"inferred\",\n",
        "    label_mode=\"int\",\n",
        "    image_size=(224, 224)\n",
        ")\n",
        "\n",
        "validation_ds_blue = keras.utils.image_dataset_from_directory(\n",
        "    directory=\"/content/drive/MyDrive/Image (1)/Image_blue/val\",\n",
        "    labels=\"inferred\",\n",
        "    label_mode=\"int\",\n",
        "    image_size=(224, 224)\n",
        ")"
      ],
      "metadata": {
        "colab": {
          "base_uri": "https://localhost:8080/"
        },
        "id": "Zrs3r5-cM41D",
        "outputId": "94601231-a043-4cd6-82f5-48eaea0ef6ca"
      },
      "execution_count": null,
      "outputs": [
        {
          "output_type": "stream",
          "name": "stdout",
          "text": [
            "Found 11 files belonging to 2 classes.\n",
            "Found 7 files belonging to 2 classes.\n"
          ]
        }
      ]
    },
    {
      "cell_type": "code",
      "source": [
        "train_ds_green = keras.utils.image_dataset_from_directory(\n",
        "    directory=\"/content/drive/MyDrive/Image (1)/Image_green/train\",\n",
        "    labels=\"inferred\",\n",
        "    label_mode=\"int\",\n",
        "    image_size=(224, 224)\n",
        ")\n",
        "\n",
        "validation_ds_green = keras.utils.image_dataset_from_directory(\n",
        "    directory=\"/content/drive/MyDrive/Image (1)/Image_green/val\",\n",
        "    labels=\"inferred\",\n",
        "    label_mode=\"int\",\n",
        "    image_size=(224, 224)\n",
        ")"
      ],
      "metadata": {
        "colab": {
          "base_uri": "https://localhost:8080/"
        },
        "id": "5gMF6rdNM4xv",
        "outputId": "867786a5-c4b5-4c1d-972f-ed758398612b"
      },
      "execution_count": null,
      "outputs": [
        {
          "output_type": "stream",
          "name": "stdout",
          "text": [
            "Found 13 files belonging to 2 classes.\n",
            "Found 10 files belonging to 2 classes.\n"
          ]
        }
      ]
    },
    {
      "cell_type": "code",
      "source": [
        "train_ds_red = keras.utils.image_dataset_from_directory(\n",
        "    directory=\"/content/drive/MyDrive/Image (1)/Image_red/train\",\n",
        "    labels=\"inferred\",\n",
        "    label_mode=\"int\",\n",
        "    image_size=(224, 224)\n",
        ")\n",
        "\n",
        "validation_ds_red = keras.utils.image_dataset_from_directory(\n",
        "    directory=\"/content/drive/MyDrive/Image (1)/Image_red/val\",\n",
        "    labels=\"inferred\",\n",
        "    label_mode=\"int\",\n",
        "    image_size=(224, 224)\n",
        ")"
      ],
      "metadata": {
        "colab": {
          "base_uri": "https://localhost:8080/"
        },
        "id": "QFHPSITiM4vU",
        "outputId": "09c63ec0-5bba-4a28-f286-93301b8f7ed2"
      },
      "execution_count": null,
      "outputs": [
        {
          "output_type": "stream",
          "name": "stdout",
          "text": [
            "Found 15 files belonging to 2 classes.\n",
            "Found 10 files belonging to 2 classes.\n"
          ]
        }
      ]
    },
    {
      "cell_type": "code",
      "source": [
        "train_ds_violet = keras.utils.image_dataset_from_directory(\n",
        "    directory=\"/content/drive/MyDrive/Image (1)/Image_violet/train\",\n",
        "    labels=\"inferred\",\n",
        "    label_mode=\"int\",\n",
        "    image_size=(224, 224)\n",
        ")\n",
        "\n",
        "validation_ds_violet = keras.utils.image_dataset_from_directory(\n",
        "    directory=\"/content/drive/MyDrive/Image (1)/Image_violet/val\",\n",
        "    labels=\"inferred\",\n",
        "    label_mode=\"int\",\n",
        "    image_size=(224, 224)\n",
        ")"
      ],
      "metadata": {
        "colab": {
          "base_uri": "https://localhost:8080/"
        },
        "id": "HB1jS8ijM4s1",
        "outputId": "eef35cb7-74cf-43a4-c35a-4f6d68ce8124"
      },
      "execution_count": null,
      "outputs": [
        {
          "output_type": "stream",
          "name": "stdout",
          "text": [
            "Found 11 files belonging to 2 classes.\n",
            "Found 7 files belonging to 2 classes.\n"
          ]
        }
      ]
    },
    {
      "cell_type": "code",
      "execution_count": null,
      "metadata": {
        "id": "b2Tcn9ThPeo4"
      },
      "outputs": [],
      "source": [
        "# Normalizing\n",
        "def process(image, label):\n",
        "    image = tf.cast(image / 255., tf.float32)\n",
        "    tfio.experimental.color.bgr_to_rgb(\n",
        "    image, name=None\n",
        "    )\n",
        "    return image, label\n",
        "\n",
        "\n",
        "train_ds = train_ds_orange.map(process)\n",
        "validation_ds = validation_ds_orange.map(process)\n",
        "\n",
        "train_ds_white = train_ds_white.map(process)\n",
        "validation_ds_white = validation_ds_white.map(process)\n",
        "\n",
        "train_ds_yellow = train_ds_yellow.map(process)\n",
        "validation_ds_yellow = validation_ds_yellow.map(process)\n",
        "\n",
        "train_ds_blue = train_ds_blue.map(process)\n",
        "validation_ds_blue = validation_ds_blue.map(process)\n",
        "\n",
        "train_ds_green = train_ds_green.map(process)\n",
        "validation_ds_green = validation_ds_green.map(process)\n",
        "\n",
        "train_ds_red = train_ds_red.map(process)\n",
        "validation_ds_red = validation_ds_red.map(process)\n",
        "\n",
        "train_ds_violet = train_ds_violet.map(process)\n",
        "validation_ds_violet = validation_ds_violet.map(process)"
      ]
    },
    {
      "cell_type": "code",
      "execution_count": null,
      "metadata": {
        "id": "5vpGFE9XPel8"
      },
      "outputs": [],
      "source": [
        "model.compile(optimizer=tf.keras.optimizers.Adam(learning_rate=0.00001),loss='binary_crossentropy',metrics=['accuracy'])"
      ]
    },
    {
      "cell_type": "code",
      "execution_count": null,
      "metadata": {
        "id": "y8dy-tPjUD3G"
      },
      "outputs": [],
      "source": [
        "model1.compile(optimizer=tf.keras.optimizers.Adam(learning_rate=0.00001),loss='binary_crossentropy',metrics=['accuracy'])"
      ]
    },
    {
      "cell_type": "code",
      "source": [
        "modelY.compile(optimizer=tf.keras.optimizers.Adam(learning_rate=0.00001),loss='binary_crossentropy',metrics=['accuracy'])"
      ],
      "metadata": {
        "id": "oY1uZ8OCQVjr"
      },
      "execution_count": null,
      "outputs": []
    },
    {
      "cell_type": "code",
      "source": [
        "modelg.compile(optimizer=tf.keras.optimizers.Adam(learning_rate=0.00001),loss='binary_crossentropy',metrics=['accuracy'])"
      ],
      "metadata": {
        "id": "ij6SjfLGQVbo"
      },
      "execution_count": null,
      "outputs": []
    },
    {
      "cell_type": "code",
      "source": [
        "modelb.compile(optimizer=tf.keras.optimizers.Adam(learning_rate=0.00001),loss='binary_crossentropy',metrics=['accuracy'])"
      ],
      "metadata": {
        "id": "fAP4CQL8QVUy"
      },
      "execution_count": null,
      "outputs": []
    },
    {
      "cell_type": "code",
      "source": [
        "modelr.compile(optimizer=tf.keras.optimizers.Adam(learning_rate=0.00001),loss='binary_crossentropy',metrics=['accuracy'])"
      ],
      "metadata": {
        "id": "F8ZbPNlrQVMv"
      },
      "execution_count": null,
      "outputs": []
    },
    {
      "cell_type": "code",
      "source": [
        "modelv.compile(optimizer=tf.keras.optimizers.Adam(learning_rate=0.00001),loss='binary_crossentropy',metrics=['accuracy'])"
      ],
      "metadata": {
        "id": "06uLK3OLQVG6"
      },
      "execution_count": null,
      "outputs": []
    },
    {
      "cell_type": "code",
      "execution_count": null,
      "metadata": {
        "colab": {
          "base_uri": "https://localhost:8080/"
        },
        "id": "7xl0tbqiPly4",
        "outputId": "ee31c8d7-a165-4c51-c036-f8ae69c42dc6"
      },
      "outputs": [
        {
          "output_type": "stream",
          "name": "stdout",
          "text": [
            "Epoch 1/40\n",
            "1/1 [==============================] - 27s 27s/step - loss: 0.5762 - accuracy: 0.7273 - val_loss: 0.8147 - val_accuracy: 0.5556\n",
            "Epoch 2/40\n",
            "1/1 [==============================] - 19s 19s/step - loss: 0.5645 - accuracy: 0.7273 - val_loss: 0.8222 - val_accuracy: 0.5556\n",
            "Epoch 3/40\n",
            "1/1 [==============================] - 18s 18s/step - loss: 0.5542 - accuracy: 0.7273 - val_loss: 0.8279 - val_accuracy: 0.5556\n",
            "Epoch 4/40\n",
            "1/1 [==============================] - 19s 19s/step - loss: 0.5447 - accuracy: 0.7273 - val_loss: 0.8321 - val_accuracy: 0.5556\n",
            "Epoch 5/40\n",
            "1/1 [==============================] - 20s 20s/step - loss: 0.5356 - accuracy: 0.7273 - val_loss: 0.8343 - val_accuracy: 0.5556\n",
            "Epoch 6/40\n",
            "1/1 [==============================] - 19s 19s/step - loss: 0.5266 - accuracy: 0.7273 - val_loss: 0.8349 - val_accuracy: 0.5556\n",
            "Epoch 7/40\n",
            "1/1 [==============================] - 19s 19s/step - loss: 0.5183 - accuracy: 0.7273 - val_loss: 0.8347 - val_accuracy: 0.5556\n",
            "Epoch 8/40\n",
            "1/1 [==============================] - 20s 20s/step - loss: 0.5098 - accuracy: 0.7273 - val_loss: 0.8333 - val_accuracy: 0.5556\n",
            "Epoch 9/40\n",
            "1/1 [==============================] - 18s 18s/step - loss: 0.5013 - accuracy: 0.7273 - val_loss: 0.8311 - val_accuracy: 0.5556\n",
            "Epoch 10/40\n",
            "1/1 [==============================] - 20s 20s/step - loss: 0.4928 - accuracy: 0.7273 - val_loss: 0.8283 - val_accuracy: 0.5556\n",
            "Epoch 11/40\n",
            "1/1 [==============================] - 18s 18s/step - loss: 0.4840 - accuracy: 0.7273 - val_loss: 0.8254 - val_accuracy: 0.5556\n",
            "Epoch 12/40\n",
            "1/1 [==============================] - 19s 19s/step - loss: 0.4755 - accuracy: 0.7273 - val_loss: 0.8227 - val_accuracy: 0.5556\n",
            "Epoch 13/40\n",
            "1/1 [==============================] - 20s 20s/step - loss: 0.4672 - accuracy: 0.7273 - val_loss: 0.8200 - val_accuracy: 0.5556\n",
            "Epoch 14/40\n",
            "1/1 [==============================] - 16s 16s/step - loss: 0.4588 - accuracy: 0.7273 - val_loss: 0.8175 - val_accuracy: 0.5556\n",
            "Epoch 15/40\n",
            "1/1 [==============================] - 20s 20s/step - loss: 0.4506 - accuracy: 0.7273 - val_loss: 0.8156 - val_accuracy: 0.5556\n",
            "Epoch 16/40\n",
            "1/1 [==============================] - 19s 19s/step - loss: 0.4427 - accuracy: 0.7273 - val_loss: 0.8142 - val_accuracy: 0.5556\n",
            "Epoch 17/40\n",
            "1/1 [==============================] - 19s 19s/step - loss: 0.4351 - accuracy: 0.7273 - val_loss: 0.8134 - val_accuracy: 0.5556\n",
            "Epoch 18/40\n",
            "1/1 [==============================] - 20s 20s/step - loss: 0.4274 - accuracy: 0.7273 - val_loss: 0.8137 - val_accuracy: 0.5556\n",
            "Epoch 19/40\n",
            "1/1 [==============================] - 17s 17s/step - loss: 0.4198 - accuracy: 0.7273 - val_loss: 0.8144 - val_accuracy: 0.5556\n",
            "Epoch 20/40\n",
            "1/1 [==============================] - 22s 22s/step - loss: 0.4122 - accuracy: 0.7273 - val_loss: 0.8151 - val_accuracy: 0.5556\n",
            "Epoch 21/40\n",
            "1/1 [==============================] - 20s 20s/step - loss: 0.4046 - accuracy: 0.7273 - val_loss: 0.8157 - val_accuracy: 0.5556\n",
            "Epoch 22/40\n",
            "1/1 [==============================] - 17s 17s/step - loss: 0.3972 - accuracy: 0.7273 - val_loss: 0.8160 - val_accuracy: 0.5556\n",
            "Epoch 23/40\n",
            "1/1 [==============================] - 18s 18s/step - loss: 0.3898 - accuracy: 0.7273 - val_loss: 0.8159 - val_accuracy: 0.5556\n",
            "Epoch 24/40\n",
            "1/1 [==============================] - 20s 20s/step - loss: 0.3827 - accuracy: 0.7273 - val_loss: 0.8157 - val_accuracy: 0.5556\n",
            "Epoch 25/40\n",
            "1/1 [==============================] - 18s 18s/step - loss: 0.3758 - accuracy: 0.7273 - val_loss: 0.8157 - val_accuracy: 0.5556\n",
            "Epoch 26/40\n",
            "1/1 [==============================] - 19s 19s/step - loss: 0.3690 - accuracy: 0.8182 - val_loss: 0.8153 - val_accuracy: 0.5556\n",
            "Epoch 27/40\n",
            "1/1 [==============================] - 20s 20s/step - loss: 0.3625 - accuracy: 0.9091 - val_loss: 0.8141 - val_accuracy: 0.5556\n",
            "Epoch 28/40\n",
            "1/1 [==============================] - 18s 18s/step - loss: 0.3560 - accuracy: 0.9091 - val_loss: 0.8126 - val_accuracy: 0.5556\n",
            "Epoch 29/40\n",
            "1/1 [==============================] - 20s 20s/step - loss: 0.3496 - accuracy: 0.9091 - val_loss: 0.8113 - val_accuracy: 0.5556\n",
            "Epoch 30/40\n",
            "1/1 [==============================] - 19s 19s/step - loss: 0.3433 - accuracy: 0.9091 - val_loss: 0.8101 - val_accuracy: 0.5556\n",
            "Epoch 31/40\n",
            "1/1 [==============================] - 18s 18s/step - loss: 0.3369 - accuracy: 0.9091 - val_loss: 0.8089 - val_accuracy: 0.5556\n",
            "Epoch 32/40\n",
            "1/1 [==============================] - 20s 20s/step - loss: 0.3307 - accuracy: 0.9091 - val_loss: 0.8075 - val_accuracy: 0.5556\n",
            "Epoch 33/40\n",
            "1/1 [==============================] - 18s 18s/step - loss: 0.3246 - accuracy: 0.9091 - val_loss: 0.8060 - val_accuracy: 0.5556\n",
            "Epoch 34/40\n",
            "1/1 [==============================] - 20s 20s/step - loss: 0.3187 - accuracy: 0.9091 - val_loss: 0.8042 - val_accuracy: 0.5556\n",
            "Epoch 35/40\n",
            "1/1 [==============================] - 20s 20s/step - loss: 0.3131 - accuracy: 0.9091 - val_loss: 0.8031 - val_accuracy: 0.5556\n",
            "Epoch 36/40\n",
            "1/1 [==============================] - 18s 18s/step - loss: 0.3076 - accuracy: 0.9091 - val_loss: 0.8025 - val_accuracy: 0.5556\n",
            "Epoch 37/40\n",
            "1/1 [==============================] - 20s 20s/step - loss: 0.3022 - accuracy: 0.9091 - val_loss: 0.8026 - val_accuracy: 0.5556\n",
            "Epoch 38/40\n",
            "1/1 [==============================] - 19s 19s/step - loss: 0.2967 - accuracy: 0.9091 - val_loss: 0.8033 - val_accuracy: 0.5556\n",
            "Epoch 39/40\n",
            "1/1 [==============================] - 19s 19s/step - loss: 0.2914 - accuracy: 0.9091 - val_loss: 0.8041 - val_accuracy: 0.5556\n",
            "Epoch 40/40\n",
            "1/1 [==============================] - 20s 20s/step - loss: 0.2862 - accuracy: 1.0000 - val_loss: 0.8050 - val_accuracy: 0.5556\n"
          ]
        }
      ],
      "source": [
        "history = model.fit(train_ds,epochs=40,validation_data=validation_ds)"
      ]
    },
    {
      "cell_type": "code",
      "execution_count": null,
      "metadata": {
        "colab": {
          "base_uri": "https://localhost:8080/"
        },
        "id": "hOPW6nhpTqtu",
        "outputId": "933a1120-4cb2-4f22-b25a-dde4cf8b71b0"
      },
      "outputs": [
        {
          "output_type": "stream",
          "name": "stdout",
          "text": [
            "Epoch 1/15\n",
            "1/1 [==============================] - 19s 19s/step - loss: 0.7521 - accuracy: 0.4000 - val_loss: 0.7625 - val_accuracy: 0.5000\n",
            "Epoch 2/15\n",
            "1/1 [==============================] - 20s 20s/step - loss: 0.7063 - accuracy: 0.6000 - val_loss: 0.7641 - val_accuracy: 0.5000\n",
            "Epoch 3/15\n",
            "1/1 [==============================] - 16s 16s/step - loss: 0.6644 - accuracy: 0.7000 - val_loss: 0.7680 - val_accuracy: 0.5000\n",
            "Epoch 4/15\n",
            "1/1 [==============================] - 19s 19s/step - loss: 0.6274 - accuracy: 0.8000 - val_loss: 0.7743 - val_accuracy: 0.5000\n",
            "Epoch 5/15\n",
            "1/1 [==============================] - 19s 19s/step - loss: 0.5937 - accuracy: 0.8000 - val_loss: 0.7829 - val_accuracy: 0.5000\n",
            "Epoch 6/15\n",
            "1/1 [==============================] - 17s 17s/step - loss: 0.5636 - accuracy: 0.8000 - val_loss: 0.7939 - val_accuracy: 0.5000\n",
            "Epoch 7/15\n",
            "1/1 [==============================] - 20s 20s/step - loss: 0.5377 - accuracy: 0.8000 - val_loss: 0.8065 - val_accuracy: 0.4000\n",
            "Epoch 8/15\n",
            "1/1 [==============================] - 18s 18s/step - loss: 0.5154 - accuracy: 0.8000 - val_loss: 0.8194 - val_accuracy: 0.4000\n",
            "Epoch 9/15\n",
            "1/1 [==============================] - 16s 16s/step - loss: 0.4964 - accuracy: 0.8000 - val_loss: 0.8338 - val_accuracy: 0.4000\n",
            "Epoch 10/15\n",
            "1/1 [==============================] - 16s 16s/step - loss: 0.4798 - accuracy: 0.8000 - val_loss: 0.8499 - val_accuracy: 0.4000\n",
            "Epoch 11/15\n",
            "1/1 [==============================] - 19s 19s/step - loss: 0.4656 - accuracy: 0.8000 - val_loss: 0.8663 - val_accuracy: 0.5000\n",
            "Epoch 12/15\n",
            "1/1 [==============================] - 19s 19s/step - loss: 0.4533 - accuracy: 0.8000 - val_loss: 0.8821 - val_accuracy: 0.5000\n",
            "Epoch 13/15\n",
            "1/1 [==============================] - 17s 17s/step - loss: 0.4427 - accuracy: 0.8000 - val_loss: 0.8975 - val_accuracy: 0.5000\n",
            "Epoch 14/15\n",
            "1/1 [==============================] - 20s 20s/step - loss: 0.4336 - accuracy: 0.8000 - val_loss: 0.9121 - val_accuracy: 0.5000\n",
            "Epoch 15/15\n",
            "1/1 [==============================] - 18s 18s/step - loss: 0.4255 - accuracy: 0.8000 - val_loss: 0.9260 - val_accuracy: 0.5000\n"
          ]
        }
      ],
      "source": [
        "history1 = model1.fit(train_ds_white,epochs=15,validation_data=validation_ds_white)"
      ]
    },
    {
      "cell_type": "code",
      "source": [
        "historyy = modelY.fit(train_ds_yellow,epochs=15,validation_data=validation_ds_yellow)"
      ],
      "metadata": {
        "colab": {
          "base_uri": "https://localhost:8080/"
        },
        "id": "3_8WJ4xwQlz7",
        "outputId": "3745cf61-8c0c-4e1a-e224-9f76edcffe28"
      },
      "execution_count": null,
      "outputs": [
        {
          "output_type": "stream",
          "name": "stdout",
          "text": [
            "Epoch 1/15\n",
            "1/1 [==============================] - 20s 20s/step - loss: 0.7317 - accuracy: 0.3636 - val_loss: 0.7797 - val_accuracy: 0.2857\n",
            "Epoch 2/15\n",
            "1/1 [==============================] - 15s 15s/step - loss: 0.7141 - accuracy: 0.4545 - val_loss: 0.7711 - val_accuracy: 0.2857\n",
            "Epoch 3/15\n",
            "1/1 [==============================] - 18s 18s/step - loss: 0.6986 - accuracy: 0.5455 - val_loss: 0.7640 - val_accuracy: 0.2857\n",
            "Epoch 4/15\n",
            "1/1 [==============================] - 15s 15s/step - loss: 0.6839 - accuracy: 0.5455 - val_loss: 0.7581 - val_accuracy: 0.2857\n",
            "Epoch 5/15\n",
            "1/1 [==============================] - 19s 19s/step - loss: 0.6697 - accuracy: 0.5455 - val_loss: 0.7531 - val_accuracy: 0.2857\n",
            "Epoch 6/15\n",
            "1/1 [==============================] - 19s 19s/step - loss: 0.6564 - accuracy: 0.6364 - val_loss: 0.7493 - val_accuracy: 0.2857\n",
            "Epoch 7/15\n",
            "1/1 [==============================] - 15s 15s/step - loss: 0.6445 - accuracy: 0.7273 - val_loss: 0.7464 - val_accuracy: 0.2857\n",
            "Epoch 8/15\n",
            "1/1 [==============================] - 18s 18s/step - loss: 0.6337 - accuracy: 0.8182 - val_loss: 0.7443 - val_accuracy: 0.2857\n",
            "Epoch 9/15\n",
            "1/1 [==============================] - 19s 19s/step - loss: 0.6236 - accuracy: 0.8182 - val_loss: 0.7431 - val_accuracy: 0.4286\n",
            "Epoch 10/15\n",
            "1/1 [==============================] - 15s 15s/step - loss: 0.6141 - accuracy: 0.8182 - val_loss: 0.7422 - val_accuracy: 0.5714\n",
            "Epoch 11/15\n",
            "1/1 [==============================] - 18s 18s/step - loss: 0.6051 - accuracy: 0.8182 - val_loss: 0.7409 - val_accuracy: 0.5714\n",
            "Epoch 12/15\n",
            "1/1 [==============================] - 15s 15s/step - loss: 0.5965 - accuracy: 0.8182 - val_loss: 0.7399 - val_accuracy: 0.5714\n",
            "Epoch 13/15\n",
            "1/1 [==============================] - 18s 18s/step - loss: 0.5886 - accuracy: 0.8182 - val_loss: 0.7397 - val_accuracy: 0.5714\n",
            "Epoch 14/15\n",
            "1/1 [==============================] - 15s 15s/step - loss: 0.5819 - accuracy: 0.7273 - val_loss: 0.7400 - val_accuracy: 0.5714\n",
            "Epoch 15/15\n",
            "1/1 [==============================] - 14s 14s/step - loss: 0.5756 - accuracy: 0.7273 - val_loss: 0.7408 - val_accuracy: 0.5714\n"
          ]
        }
      ]
    },
    {
      "cell_type": "code",
      "source": [
        "historyb = modelb.fit(train_ds_blue,epochs=15,validation_data=validation_ds_blue)"
      ],
      "metadata": {
        "colab": {
          "base_uri": "https://localhost:8080/"
        },
        "id": "Sch1lmq3QqDH",
        "outputId": "ff60526c-4d9f-45fb-bfa8-507df77f75d2"
      },
      "execution_count": null,
      "outputs": [
        {
          "output_type": "stream",
          "name": "stdout",
          "text": [
            "Epoch 1/15\n",
            "1/1 [==============================] - 24s 24s/step - loss: 0.7025 - accuracy: 0.4545 - val_loss: 0.7076 - val_accuracy: 0.4286\n",
            "Epoch 2/15\n",
            "1/1 [==============================] - 18s 18s/step - loss: 0.6956 - accuracy: 0.4545 - val_loss: 0.7094 - val_accuracy: 0.4286\n",
            "Epoch 3/15\n",
            "1/1 [==============================] - 15s 15s/step - loss: 0.6891 - accuracy: 0.4545 - val_loss: 0.7113 - val_accuracy: 0.2857\n",
            "Epoch 4/15\n",
            "1/1 [==============================] - 14s 14s/step - loss: 0.6826 - accuracy: 0.3636 - val_loss: 0.7130 - val_accuracy: 0.2857\n",
            "Epoch 5/15\n",
            "1/1 [==============================] - 18s 18s/step - loss: 0.6771 - accuracy: 0.3636 - val_loss: 0.7144 - val_accuracy: 0.2857\n",
            "Epoch 6/15\n",
            "1/1 [==============================] - 14s 14s/step - loss: 0.6717 - accuracy: 0.3636 - val_loss: 0.7163 - val_accuracy: 0.2857\n",
            "Epoch 7/15\n",
            "1/1 [==============================] - 14s 14s/step - loss: 0.6667 - accuracy: 0.4545 - val_loss: 0.7181 - val_accuracy: 0.2857\n",
            "Epoch 8/15\n",
            "1/1 [==============================] - 13s 13s/step - loss: 0.6617 - accuracy: 0.6364 - val_loss: 0.7197 - val_accuracy: 0.4286\n",
            "Epoch 9/15\n",
            "1/1 [==============================] - 14s 14s/step - loss: 0.6568 - accuracy: 0.6364 - val_loss: 0.7203 - val_accuracy: 0.4286\n",
            "Epoch 10/15\n",
            "1/1 [==============================] - 15s 15s/step - loss: 0.6524 - accuracy: 0.6364 - val_loss: 0.7204 - val_accuracy: 0.4286\n",
            "Epoch 11/15\n",
            "1/1 [==============================] - 15s 15s/step - loss: 0.6484 - accuracy: 0.6364 - val_loss: 0.7211 - val_accuracy: 0.4286\n",
            "Epoch 12/15\n",
            "1/1 [==============================] - 17s 17s/step - loss: 0.6444 - accuracy: 0.6364 - val_loss: 0.7221 - val_accuracy: 0.4286\n",
            "Epoch 13/15\n",
            "1/1 [==============================] - 15s 15s/step - loss: 0.6405 - accuracy: 0.6364 - val_loss: 0.7228 - val_accuracy: 0.4286\n",
            "Epoch 14/15\n",
            "1/1 [==============================] - 18s 18s/step - loss: 0.6367 - accuracy: 0.6364 - val_loss: 0.7234 - val_accuracy: 0.4286\n",
            "Epoch 15/15\n",
            "1/1 [==============================] - 14s 14s/step - loss: 0.6328 - accuracy: 0.6364 - val_loss: 0.7238 - val_accuracy: 0.4286\n"
          ]
        }
      ]
    },
    {
      "cell_type": "code",
      "source": [
        "historyg = modelg.fit(train_ds_green,epochs=15,validation_data=validation_ds_green)"
      ],
      "metadata": {
        "colab": {
          "base_uri": "https://localhost:8080/"
        },
        "id": "XQNPVLO-QuXf",
        "outputId": "bb3df1a3-1c68-42f7-cbf4-9c1fd532fd67"
      },
      "execution_count": null,
      "outputs": [
        {
          "output_type": "stream",
          "name": "stdout",
          "text": [
            "Epoch 1/15\n",
            "1/1 [==============================] - 24s 24s/step - loss: 0.6867 - accuracy: 0.5385 - val_loss: 0.6804 - val_accuracy: 0.5000\n",
            "Epoch 2/15\n",
            "1/1 [==============================] - 25s 25s/step - loss: 0.6837 - accuracy: 0.5385 - val_loss: 0.6797 - val_accuracy: 0.5000\n",
            "Epoch 3/15\n",
            "1/1 [==============================] - 21s 21s/step - loss: 0.6809 - accuracy: 0.5385 - val_loss: 0.6790 - val_accuracy: 0.5000\n",
            "Epoch 4/15\n",
            "1/1 [==============================] - 21s 21s/step - loss: 0.6780 - accuracy: 0.5385 - val_loss: 0.6785 - val_accuracy: 0.5000\n",
            "Epoch 5/15\n",
            "1/1 [==============================] - 21s 21s/step - loss: 0.6752 - accuracy: 0.5385 - val_loss: 0.6773 - val_accuracy: 0.5000\n",
            "Epoch 6/15\n",
            "1/1 [==============================] - 21s 21s/step - loss: 0.6725 - accuracy: 0.5385 - val_loss: 0.6761 - val_accuracy: 0.5000\n",
            "Epoch 7/15\n",
            "1/1 [==============================] - 21s 21s/step - loss: 0.6700 - accuracy: 0.5385 - val_loss: 0.6748 - val_accuracy: 0.5000\n",
            "Epoch 8/15\n",
            "1/1 [==============================] - 21s 21s/step - loss: 0.6677 - accuracy: 0.5385 - val_loss: 0.6736 - val_accuracy: 0.6000\n",
            "Epoch 9/15\n",
            "1/1 [==============================] - 21s 21s/step - loss: 0.6655 - accuracy: 0.6154 - val_loss: 0.6724 - val_accuracy: 0.6000\n",
            "Epoch 10/15\n",
            "1/1 [==============================] - 21s 21s/step - loss: 0.6633 - accuracy: 0.6154 - val_loss: 0.6712 - val_accuracy: 0.6000\n",
            "Epoch 11/15\n",
            "1/1 [==============================] - 19s 19s/step - loss: 0.6611 - accuracy: 0.6154 - val_loss: 0.6700 - val_accuracy: 0.7000\n",
            "Epoch 12/15\n",
            "1/1 [==============================] - 21s 21s/step - loss: 0.6588 - accuracy: 0.6154 - val_loss: 0.6688 - val_accuracy: 0.7000\n",
            "Epoch 13/15\n",
            "1/1 [==============================] - 19s 19s/step - loss: 0.6564 - accuracy: 0.6923 - val_loss: 0.6676 - val_accuracy: 0.7000\n",
            "Epoch 14/15\n",
            "1/1 [==============================] - 21s 21s/step - loss: 0.6541 - accuracy: 0.6923 - val_loss: 0.6665 - val_accuracy: 0.7000\n",
            "Epoch 15/15\n",
            "1/1 [==============================] - 21s 21s/step - loss: 0.6517 - accuracy: 0.6923 - val_loss: 0.6653 - val_accuracy: 0.7000\n"
          ]
        }
      ]
    },
    {
      "cell_type": "code",
      "source": [
        "historyr = modelr.fit(train_ds_red,epochs=15,validation_data=validation_ds_red)"
      ],
      "metadata": {
        "colab": {
          "base_uri": "https://localhost:8080/"
        },
        "id": "b8i0IhpFQxIc",
        "outputId": "5a667d2c-7f9d-4b78-b58c-b5746886a0b5"
      },
      "execution_count": null,
      "outputs": [
        {
          "output_type": "stream",
          "name": "stdout",
          "text": [
            "Epoch 1/15\n",
            "1/1 [==============================] - 26s 26s/step - loss: 0.8752 - accuracy: 0.6000 - val_loss: 0.9004 - val_accuracy: 0.5000\n",
            "Epoch 2/15\n",
            "1/1 [==============================] - 22s 22s/step - loss: 0.8488 - accuracy: 0.6000 - val_loss: 0.8700 - val_accuracy: 0.5000\n",
            "Epoch 3/15\n",
            "1/1 [==============================] - 23s 23s/step - loss: 0.8234 - accuracy: 0.6000 - val_loss: 0.8426 - val_accuracy: 0.5000\n",
            "Epoch 4/15\n",
            "1/1 [==============================] - 23s 23s/step - loss: 0.7989 - accuracy: 0.6000 - val_loss: 0.8178 - val_accuracy: 0.5000\n",
            "Epoch 5/15\n",
            "1/1 [==============================] - 19s 19s/step - loss: 0.7761 - accuracy: 0.6000 - val_loss: 0.7960 - val_accuracy: 0.5000\n",
            "Epoch 6/15\n",
            "1/1 [==============================] - 21s 21s/step - loss: 0.7553 - accuracy: 0.6000 - val_loss: 0.7776 - val_accuracy: 0.5000\n",
            "Epoch 7/15\n",
            "1/1 [==============================] - 22s 22s/step - loss: 0.7365 - accuracy: 0.6000 - val_loss: 0.7612 - val_accuracy: 0.5000\n",
            "Epoch 8/15\n",
            "1/1 [==============================] - 22s 22s/step - loss: 0.7201 - accuracy: 0.6000 - val_loss: 0.7471 - val_accuracy: 0.5000\n",
            "Epoch 9/15\n",
            "1/1 [==============================] - 19s 19s/step - loss: 0.7062 - accuracy: 0.6000 - val_loss: 0.7339 - val_accuracy: 0.5000\n",
            "Epoch 10/15\n",
            "1/1 [==============================] - 19s 19s/step - loss: 0.6933 - accuracy: 0.6000 - val_loss: 0.7218 - val_accuracy: 0.5000\n",
            "Epoch 11/15\n",
            "1/1 [==============================] - 21s 21s/step - loss: 0.6815 - accuracy: 0.6000 - val_loss: 0.7112 - val_accuracy: 0.5000\n",
            "Epoch 12/15\n",
            "1/1 [==============================] - 21s 21s/step - loss: 0.6705 - accuracy: 0.6000 - val_loss: 0.7020 - val_accuracy: 0.5000\n",
            "Epoch 13/15\n",
            "1/1 [==============================] - 22s 22s/step - loss: 0.6607 - accuracy: 0.6000 - val_loss: 0.6936 - val_accuracy: 0.5000\n",
            "Epoch 14/15\n",
            "1/1 [==============================] - 22s 22s/step - loss: 0.6529 - accuracy: 0.6000 - val_loss: 0.6865 - val_accuracy: 0.5000\n",
            "Epoch 15/15\n",
            "1/1 [==============================] - 22s 22s/step - loss: 0.6466 - accuracy: 0.6000 - val_loss: 0.6802 - val_accuracy: 0.5000\n"
          ]
        }
      ]
    },
    {
      "cell_type": "code",
      "source": [
        "historyv = modelv.fit(train_ds_violet,epochs=15,validation_data=validation_ds_violet)"
      ],
      "metadata": {
        "colab": {
          "base_uri": "https://localhost:8080/"
        },
        "id": "kwWp2axkQ6o4",
        "outputId": "5c8ccd4e-a5d3-4f26-9f71-bb095c776695"
      },
      "execution_count": null,
      "outputs": [
        {
          "output_type": "stream",
          "name": "stdout",
          "text": [
            "Epoch 1/15\n",
            "1/1 [==============================] - 24s 24s/step - loss: 0.6950 - accuracy: 0.5455 - val_loss: 0.6993 - val_accuracy: 0.4286\n",
            "Epoch 2/15\n",
            "1/1 [==============================] - 19s 19s/step - loss: 0.6826 - accuracy: 0.5455 - val_loss: 0.6952 - val_accuracy: 0.4286\n",
            "Epoch 3/15\n",
            "1/1 [==============================] - 15s 15s/step - loss: 0.6709 - accuracy: 0.5455 - val_loss: 0.6918 - val_accuracy: 0.4286\n",
            "Epoch 4/15\n",
            "1/1 [==============================] - 18s 18s/step - loss: 0.6593 - accuracy: 0.5455 - val_loss: 0.6889 - val_accuracy: 0.4286\n",
            "Epoch 5/15\n",
            "1/1 [==============================] - 15s 15s/step - loss: 0.6475 - accuracy: 0.5455 - val_loss: 0.6864 - val_accuracy: 0.5714\n",
            "Epoch 6/15\n",
            "1/1 [==============================] - 18s 18s/step - loss: 0.6358 - accuracy: 0.6364 - val_loss: 0.6842 - val_accuracy: 0.5714\n",
            "Epoch 7/15\n",
            "1/1 [==============================] - 15s 15s/step - loss: 0.6243 - accuracy: 0.6364 - val_loss: 0.6822 - val_accuracy: 0.5714\n",
            "Epoch 8/15\n",
            "1/1 [==============================] - 20s 20s/step - loss: 0.6137 - accuracy: 0.6364 - val_loss: 0.6815 - val_accuracy: 0.7143\n",
            "Epoch 9/15\n",
            "1/1 [==============================] - 18s 18s/step - loss: 0.6035 - accuracy: 0.6364 - val_loss: 0.6806 - val_accuracy: 0.7143\n",
            "Epoch 10/15\n",
            "1/1 [==============================] - 15s 15s/step - loss: 0.5937 - accuracy: 0.6364 - val_loss: 0.6792 - val_accuracy: 0.7143\n",
            "Epoch 11/15\n",
            "1/1 [==============================] - 15s 15s/step - loss: 0.5845 - accuracy: 0.8182 - val_loss: 0.6778 - val_accuracy: 0.7143\n",
            "Epoch 12/15\n",
            "1/1 [==============================] - 14s 14s/step - loss: 0.5761 - accuracy: 0.8182 - val_loss: 0.6760 - val_accuracy: 0.7143\n",
            "Epoch 13/15\n",
            "1/1 [==============================] - 18s 18s/step - loss: 0.5678 - accuracy: 0.8182 - val_loss: 0.6739 - val_accuracy: 0.7143\n",
            "Epoch 14/15\n",
            "1/1 [==============================] - 19s 19s/step - loss: 0.5595 - accuracy: 0.8182 - val_loss: 0.6714 - val_accuracy: 0.7143\n",
            "Epoch 15/15\n",
            "1/1 [==============================] - 15s 15s/step - loss: 0.5512 - accuracy: 0.8182 - val_loss: 0.6688 - val_accuracy: 0.7143\n"
          ]
        }
      ]
    },
    {
      "cell_type": "code",
      "execution_count": null,
      "metadata": {
        "colab": {
          "base_uri": "https://localhost:8080/",
          "height": 245
        },
        "id": "5ox5lPHQPlwM",
        "outputId": "8c586437-0599-411f-f5d2-730b2790250b"
      },
      "outputs": [
        {
          "output_type": "error",
          "ename": "NameError",
          "evalue": "ignored",
          "traceback": [
            "\u001b[0;31m---------------------------------------------------------------------------\u001b[0m",
            "\u001b[0;31mNameError\u001b[0m                                 Traceback (most recent call last)",
            "\u001b[0;32m<ipython-input-107-d7783426b1df>\u001b[0m in \u001b[0;36m<cell line: 2>\u001b[0;34m()\u001b[0m\n\u001b[1;32m      1\u001b[0m \u001b[0mtest_img\u001b[0m \u001b[0;34m=\u001b[0m \u001b[0;34mr\"/content/Green.jpg\"\u001b[0m\u001b[0;34m\u001b[0m\u001b[0;34m\u001b[0m\u001b[0m\n\u001b[0;32m----> 2\u001b[0;31m \u001b[0mimage\u001b[0m \u001b[0;34m=\u001b[0m \u001b[0mcv2\u001b[0m\u001b[0;34m.\u001b[0m\u001b[0mimread\u001b[0m\u001b[0;34m(\u001b[0m\u001b[0mtest_img\u001b[0m\u001b[0;34m)\u001b[0m\u001b[0;34m\u001b[0m\u001b[0;34m\u001b[0m\u001b[0m\n\u001b[0m\u001b[1;32m      3\u001b[0m \u001b[0mimage\u001b[0m \u001b[0;34m=\u001b[0m \u001b[0mcv2\u001b[0m\u001b[0;34m.\u001b[0m\u001b[0mcvtColor\u001b[0m\u001b[0;34m(\u001b[0m\u001b[0mimage\u001b[0m\u001b[0;34m,\u001b[0m \u001b[0mcv2\u001b[0m\u001b[0;34m.\u001b[0m\u001b[0mCOLOR_BGR2RGB\u001b[0m\u001b[0;34m)\u001b[0m\u001b[0;34m\u001b[0m\u001b[0;34m\u001b[0m\u001b[0m\n\u001b[1;32m      4\u001b[0m \u001b[0;34m\u001b[0m\u001b[0m\n\u001b[1;32m      5\u001b[0m \u001b[0mplt\u001b[0m\u001b[0;34m.\u001b[0m\u001b[0mimshow\u001b[0m\u001b[0;34m(\u001b[0m\u001b[0mimage\u001b[0m\u001b[0;34m)\u001b[0m\u001b[0;34m\u001b[0m\u001b[0;34m\u001b[0m\u001b[0m\n",
            "\u001b[0;31mNameError\u001b[0m: name 'cv2' is not defined"
          ]
        }
      ],
      "source": [
        "test_img = r\"/content/Green.jpg\"\n",
        "image = cv2.imread(test_img)\n",
        "image = cv2.cvtColor(image, cv2.COLOR_BGR2RGB)\n",
        "\n",
        "plt.imshow(image)"
      ]
    },
    {
      "cell_type": "code",
      "execution_count": null,
      "metadata": {
        "id": "9cgmpcfqPtoV"
      },
      "outputs": [],
      "source": [
        "image.shape"
      ]
    },
    {
      "cell_type": "code",
      "execution_count": null,
      "metadata": {
        "id": "X6gMVYwIPtlj"
      },
      "outputs": [],
      "source": [
        "image = cv2.resize(image,(256,256))\n",
        "test_input = image.reshape((256,256,3))"
      ]
    },
    {
      "cell_type": "code",
      "execution_count": null,
      "metadata": {
        "id": "eeD4ZNwLPxz6"
      },
      "outputs": [],
      "source": [
        "test_input.shape"
      ]
    },
    {
      "cell_type": "code",
      "execution_count": null,
      "metadata": {
        "id": "jTNzWtPqPz1U"
      },
      "outputs": [],
      "source": [
        "result = model.predict(test_input)\n",
        "result"
      ]
    }
  ],
  "metadata": {
    "colab": {
      "provenance": [],
      "authorship_tag": "ABX9TyPHLPugNkuYaohFtjsKKLcj",
      "include_colab_link": true
    },
    "kernelspec": {
      "display_name": "Python 3",
      "name": "python3"
    },
    "language_info": {
      "name": "python"
    }
  },
  "nbformat": 4,
  "nbformat_minor": 0
}